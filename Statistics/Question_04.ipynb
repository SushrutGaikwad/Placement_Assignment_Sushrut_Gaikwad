{
 "cells": [
  {
   "attachments": {},
   "cell_type": "markdown",
   "metadata": {},
   "source": [
    "**Question 4: A group of 20 friends decide to play a game in which they each write a number between 1 and 20 on a slip of paper and put it into a hat. They then draw one slip of paper at random. What is the probability that the number on the slip of paper is a perfect square (i.e., 1, 4, 9, or 16)?**"
   ]
  },
  {
   "attachments": {},
   "cell_type": "markdown",
   "metadata": {},
   "source": [
    "**Answer:** The sample space of this experiment is given by $$\\Omega = \\{1,2,3,4,5,6,7,8,9,10,11,12,13,14,15,16,17,18,19,20\\}$$\n",
    "Let $A$ be a set of favourable outcomes. Then, we have $$A=\\{1,4,9,16\\}$$\n",
    "The probability is given by $$P \\left( \\text{Number drawn is a perfect square} \\right) = \\dfrac{\\left| A \\right|}{\\left| \\Omega \\right|} = \\dfrac{4}{20} = \\dfrac{1}{5}$$"
   ]
  }
 ],
 "metadata": {
  "kernelspec": {
   "display_name": "Python 3",
   "language": "python",
   "name": "python3"
  },
  "language_info": {
   "name": "python",
   "version": "3.10.11"
  },
  "orig_nbformat": 4
 },
 "nbformat": 4,
 "nbformat_minor": 2
}
