{
 "cells": [
  {
   "attachments": {},
   "cell_type": "markdown",
   "metadata": {},
   "source": [
    "**Question 10: A factory produces light bulbs, and the probability of a bulb being defective is 0.05. The factory produces a large batch of 500 light bulbs.**\n",
    "1. What is the probability that exactly 20 bulbs are defective?\n",
    "2. What is the probability that at least 10 bulbs are defective?\n",
    "3. What is the probability that at max 15 bulbs are defective?\n",
    "4. On average, how many defective bulbs would you expect in a batch of 500?"
   ]
  },
  {
   "attachments": {},
   "cell_type": "markdown",
   "metadata": {},
   "source": [
    "**Answer 1:**\n",
    "\n",
    "This is nothing but the binomial distribution. So, the probability that exactly 20 bulbs are defective is given by $$P\\left( \\text{Exactly 20 light bulbs are defective} \\right) = {500 \\choose 20} \\times 0.05^{20} \\times \\left(1-0.05\\right)^{480}$$\n",
    "Note that here the symbol ${n \\choose k}$ denotes \"n choose k\", i.e., the binomial coefficient."
   ]
  },
  {
   "attachments": {},
   "cell_type": "markdown",
   "metadata": {},
   "source": [
    "**Answer 2:**\n",
    "\n",
    "Observe the following that $$P \\left( \\text{At least 10 bulbs are defective} \\right)= 1 - P \\left( \\text{At most 9 bulbs are defective} \\right)\\tag{2.1}$$\n",
    "\n",
    "Further, observe that $$P \\left( \\text{At most 9 bulbs are defective} \\right) = P \\left( \\text{No bulb is defective} \\right) + P \\left( \\text{Exactly 1 bulb is defective} \\right) + \\dots + P \\left( \\text{Exactly 9 bulbs are defective} \\right)$$\n",
    "This will be equal to $$P \\left( \\text{At most 9 bulbs are defective} \\right) = \\left({500 \\choose 0} \\times 0.05^{0} \\times \\left(1-0.05\\right)^{500}\\right) + \\dots + \\left({500 \\choose 9} \\times 0.05^{9} \\times \\left(1-0.05\\right)^{491}\\right)\\tag{2.2}$$\n",
    "Substituting equation (2.2) in equation (2.1), we get $$P \\left( \\text{At least 10 bulbs are defective} \\right)= 1 - \\left[\\left({500 \\choose 0} \\times 0.05^{0} \\times \\left(1-0.05\\right)^{500}\\right) + \\dots + \\left({500 \\choose 9} \\times 0.05^{9} \\times \\left(1-0.05\\right)^{491}\\right)\\right]$$"
   ]
  },
  {
   "attachments": {},
   "cell_type": "markdown",
   "metadata": {},
   "source": [
    "**Answer 3:**\n",
    "\n",
    "Observe the following that $$P \\left( \\text{At max 15 bulbs are defective} \\right) = P \\left( \\text{No bulb is defective} \\right) + P \\left( \\text{Exactly 1 bulb is defective} \\right) + \\dots + P \\left( \\text{Exactly 15 bulbs are defective} \\right)$$\n",
    "This is equal to $$P \\left( \\text{At max 15 bulbs are defective} \\right) = \\left({500 \\choose 0} \\times 0.05^{0} \\times \\left(1-0.05\\right)^{500}\\right) + \\dots + \\left({500 \\choose 15} \\times 0.05^{15} \\times \\left(1-0.05\\right)^{485}\\right)$$"
   ]
  },
  {
   "attachments": {},
   "cell_type": "markdown",
   "metadata": {},
   "source": [
    "**Answer 4:**\n",
    "\n",
    "This is nothing but the expectation of a binomial random variable. So, on an average in a batch of 500, we expect $n \\times p = 500 \\times 0.05 = 25$ defective bulbs."
   ]
  }
 ],
 "metadata": {
  "language_info": {
   "name": "python"
  },
  "orig_nbformat": 4
 },
 "nbformat": 4,
 "nbformat_minor": 2
}
