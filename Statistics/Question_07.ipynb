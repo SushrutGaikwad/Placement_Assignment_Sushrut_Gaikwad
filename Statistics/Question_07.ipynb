{
 "cells": [
  {
   "attachments": {},
   "cell_type": "markdown",
   "metadata": {},
   "source": [
    "**Question 7: The equations of two lines of regression, obtained in a correlation analysis between variables $x$ and $y$ are as follows:** $$2x+3-8=0$$ $$2y+x-5=0$$\n",
    "The variance of $x$ is $4$. Find:\n",
    "1. Variance of $y$.\n",
    "2. Coefficient of determination of $C$ and $y$.\n",
    "3. Standard error of estimate of $x$ on $y$ and of $y$ on $x$."
   ]
  },
  {
   "cell_type": "code",
   "execution_count": null,
   "metadata": {},
   "outputs": [],
   "source": []
  }
 ],
 "metadata": {
  "kernelspec": {
   "display_name": "Python 3",
   "language": "python",
   "name": "python3"
  },
  "language_info": {
   "name": "python",
   "version": "3.10.11"
  },
  "orig_nbformat": 4
 },
 "nbformat": 4,
 "nbformat_minor": 2
}
