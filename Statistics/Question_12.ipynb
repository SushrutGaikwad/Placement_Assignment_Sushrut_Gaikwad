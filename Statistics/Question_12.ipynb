{
 "cells": [
  {
   "attachments": {},
   "cell_type": "markdown",
   "metadata": {},
   "source": [
    "**Question 12: A pharmaceutical company develops a new drug and wants to compare its effectiveness against a standard drug for treating a particular condition. They conduct a study with two groups: Group A receives the new drug, and Group B receives the standard drug. The company measures the improvement in a specific symptom for both groups after a 4-week treatment period.**\n",
    "1. The company collects data from 30 patients in each group and calculates the mean improvement score and the standard deviation of improvement for each group. The mean improvement score for Group A is 2.5 with a standard deviation of 0.8, while the mean improvement score for Group B is 2.2 with a standard deviation of 0.6. Conduct a t-test to determine if there is a significant difference in the mean improvement scores between the two groups. Use a significance level of 0.05.\n",
    "2. Based on the t-test results, state whether the null hypothesis should be rejected or not. Provide a conclusion in the context of the study."
   ]
  },
  {
   "attachments": {},
   "cell_type": "markdown",
   "metadata": {},
   "source": [
    "**Answer:**\n",
    "\n",
    "The following are the null ($H_0$) and the alternative hypothesis ($H_1$).\n",
    "\n",
    "$$H_0: \\mu_A = \\mu_B$$\n",
    "$$H_1: \\mu_A \\neq \\mu_B$$\n",
    "\n",
    "We are given $n_A=30$, $\\bar{x}_A = 2.5$, $s_A=0.8$, $n_B=30$, $\\bar{x}_B = 2.2$, and $s_B=0.6$. The t-statistic is given by\n",
    "$$t=\\dfrac{\\bar{x}_A - \\bar{x}_B}{\\sqrt{\\dfrac{s_A^2}{n_A} + \\dfrac{s_B^2}{n_B}}}\\approx 1.64$$\n",
    "We will find the critical value of the t-statistic, i.e., $t_c$. If $t<\\left| t_c \\right|$, i.e., $t$ lies between $-\\left| t_c \\right|$ and $+\\left| t_c \\right|$, then we accept the null hypothesis. Otherwise we reject the null hypothesis. Refering the t-table with degrees of freedom as $n-1=30-1=29$ and $\\alpha = 0.05$ (two-tailed), we get $t_c = 2.045$. We can see that $t$ is between $-\\left| t_c \\right|$ and $+\\left| t_c \\right|$, i.e., $-2.045<1.64<2.045$. Hence, we accept the null hypothesis. In other words, there is no significant difference between the mean improvement scores between the two groups. So, we can conclude that the new drug's effectiveness is not statistically different than the standard drug (with $\\alpha=0.05$)."
   ]
  }
 ],
 "metadata": {
  "language_info": {
   "name": "python"
  },
  "orig_nbformat": 4
 },
 "nbformat": 4,
 "nbformat_minor": 2
}
