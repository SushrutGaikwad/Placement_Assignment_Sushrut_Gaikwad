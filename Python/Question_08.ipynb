{
 "cells": [
  {
   "attachments": {},
   "cell_type": "markdown",
   "metadata": {},
   "source": [
    "**Question 8: Using the data from Question 5, write code to analyze the data and answer the following questions**\n",
    "\n",
    "**Note:**\n",
    "1. Draw plots to demonstrate the analysis for the following questions for better visualizations.\n",
    "2. Write code comments wherever required for code understanding.\n",
    "\n",
    "**Insights to be drawn:**\n",
    "* Get all the overall ratings for each season and using plots compare the ratings for all the seasons, like season 1 ratings, season 2, and so on.\n",
    "* Get all the episode names, whose average rating is more than 8 for every season.\n",
    "* Get all the episode names that aired before May 2019.\n",
    "* Get the episode name from each season with the highest and lowest rating.\n",
    "* Get the summary for the most popular ( ratings ) episode in every season."
   ]
  },
  {
   "cell_type": "code",
   "execution_count": 1,
   "metadata": {},
   "outputs": [],
   "source": [
    "# Imports\n",
    "import json\n",
    "import pandas as pd\n",
    "import matplotlib.pyplot as plt\n",
    "from urllib.request import urlopen"
   ]
  },
  {
   "cell_type": "code",
   "execution_count": 2,
   "metadata": {},
   "outputs": [
    {
     "data": {
      "text/html": [
       "<div>\n",
       "<style scoped>\n",
       "    .dataframe tbody tr th:only-of-type {\n",
       "        vertical-align: middle;\n",
       "    }\n",
       "\n",
       "    .dataframe tbody tr th {\n",
       "        vertical-align: top;\n",
       "    }\n",
       "\n",
       "    .dataframe thead th {\n",
       "        text-align: right;\n",
       "    }\n",
       "</style>\n",
       "<table border=\"1\" class=\"dataframe\">\n",
       "  <thead>\n",
       "    <tr style=\"text-align: right;\">\n",
       "      <th></th>\n",
       "      <th>id</th>\n",
       "      <th>url</th>\n",
       "      <th>name</th>\n",
       "      <th>season</th>\n",
       "      <th>number</th>\n",
       "      <th>type</th>\n",
       "      <th>airdate</th>\n",
       "      <th>airtime</th>\n",
       "      <th>airstamp</th>\n",
       "      <th>runtime</th>\n",
       "      <th>rating</th>\n",
       "      <th>image</th>\n",
       "      <th>summary</th>\n",
       "      <th>_links</th>\n",
       "    </tr>\n",
       "  </thead>\n",
       "  <tbody>\n",
       "    <tr>\n",
       "      <th>0</th>\n",
       "      <td>869671</td>\n",
       "      <td>https://www.tvmaze.com/episodes/869671/westwor...</td>\n",
       "      <td>The Original</td>\n",
       "      <td>1</td>\n",
       "      <td>1</td>\n",
       "      <td>regular</td>\n",
       "      <td>2016-10-02</td>\n",
       "      <td>21:00</td>\n",
       "      <td>2016-10-03T01:00:00+00:00</td>\n",
       "      <td>68</td>\n",
       "      <td>{'average': 8}</td>\n",
       "      <td>{'medium': 'https://static.tvmaze.com/uploads/...</td>\n",
       "      <td>&lt;p&gt;A woman named Dolores is a free spirit in t...</td>\n",
       "      <td>{'self': {'href': 'https://api.tvmaze.com/epis...</td>\n",
       "    </tr>\n",
       "    <tr>\n",
       "      <th>1</th>\n",
       "      <td>911201</td>\n",
       "      <td>https://www.tvmaze.com/episodes/911201/westwor...</td>\n",
       "      <td>Chestnut</td>\n",
       "      <td>1</td>\n",
       "      <td>2</td>\n",
       "      <td>regular</td>\n",
       "      <td>2016-10-09</td>\n",
       "      <td>21:00</td>\n",
       "      <td>2016-10-10T01:00:00+00:00</td>\n",
       "      <td>60</td>\n",
       "      <td>{'average': 7.7}</td>\n",
       "      <td>{'medium': 'https://static.tvmaze.com/uploads/...</td>\n",
       "      <td>&lt;p&gt;Bernard suspects that someone is sabotaging...</td>\n",
       "      <td>{'self': {'href': 'https://api.tvmaze.com/epis...</td>\n",
       "    </tr>\n",
       "    <tr>\n",
       "      <th>2</th>\n",
       "      <td>911204</td>\n",
       "      <td>https://www.tvmaze.com/episodes/911204/westwor...</td>\n",
       "      <td>The Stray</td>\n",
       "      <td>1</td>\n",
       "      <td>3</td>\n",
       "      <td>regular</td>\n",
       "      <td>2016-10-16</td>\n",
       "      <td>21:00</td>\n",
       "      <td>2016-10-17T01:00:00+00:00</td>\n",
       "      <td>60</td>\n",
       "      <td>{'average': 7.6}</td>\n",
       "      <td>{'medium': 'https://static.tvmaze.com/uploads/...</td>\n",
       "      <td>&lt;p&gt;Bernard continues to investigate Dolores' s...</td>\n",
       "      <td>{'self': {'href': 'https://api.tvmaze.com/epis...</td>\n",
       "    </tr>\n",
       "  </tbody>\n",
       "</table>\n",
       "</div>"
      ],
      "text/plain": [
       "       id                                                url          name  \\\n",
       "0  869671  https://www.tvmaze.com/episodes/869671/westwor...  The Original   \n",
       "1  911201  https://www.tvmaze.com/episodes/911201/westwor...      Chestnut   \n",
       "2  911204  https://www.tvmaze.com/episodes/911204/westwor...     The Stray   \n",
       "\n",
       "   season  number     type     airdate airtime                   airstamp  \\\n",
       "0       1       1  regular  2016-10-02   21:00  2016-10-03T01:00:00+00:00   \n",
       "1       1       2  regular  2016-10-09   21:00  2016-10-10T01:00:00+00:00   \n",
       "2       1       3  regular  2016-10-16   21:00  2016-10-17T01:00:00+00:00   \n",
       "\n",
       "   runtime            rating  \\\n",
       "0       68    {'average': 8}   \n",
       "1       60  {'average': 7.7}   \n",
       "2       60  {'average': 7.6}   \n",
       "\n",
       "                                               image  \\\n",
       "0  {'medium': 'https://static.tvmaze.com/uploads/...   \n",
       "1  {'medium': 'https://static.tvmaze.com/uploads/...   \n",
       "2  {'medium': 'https://static.tvmaze.com/uploads/...   \n",
       "\n",
       "                                             summary  \\\n",
       "0  <p>A woman named Dolores is a free spirit in t...   \n",
       "1  <p>Bernard suspects that someone is sabotaging...   \n",
       "2  <p>Bernard continues to investigate Dolores' s...   \n",
       "\n",
       "                                              _links  \n",
       "0  {'self': {'href': 'https://api.tvmaze.com/epis...  \n",
       "1  {'self': {'href': 'https://api.tvmaze.com/epis...  \n",
       "2  {'self': {'href': 'https://api.tvmaze.com/epis...  "
      ]
     },
     "execution_count": 2,
     "metadata": {},
     "output_type": "execute_result"
    }
   ],
   "source": [
    "# Getting the data\n",
    "URL = \"http://api.tvmaze.com/singlesearch/shows?q=westworld&embed=episodes\"\n",
    "response = urlopen(URL)\n",
    "data_json = json.loads(response.read())\n",
    "df = pd.DataFrame(data_json[\"_embedded\"][\"episodes\"])\n",
    "df.head(3)"
   ]
  },
  {
   "cell_type": "code",
   "execution_count": 3,
   "metadata": {},
   "outputs": [
    {
     "name": "stdout",
     "output_type": "stream",
     "text": [
      "<class 'pandas.core.frame.DataFrame'>\n",
      "RangeIndex: 36 entries, 0 to 35\n",
      "Data columns (total 14 columns):\n",
      " #   Column    Non-Null Count  Dtype \n",
      "---  ------    --------------  ----- \n",
      " 0   id        36 non-null     int64 \n",
      " 1   url       36 non-null     object\n",
      " 2   name      36 non-null     object\n",
      " 3   season    36 non-null     int64 \n",
      " 4   number    36 non-null     int64 \n",
      " 5   type      36 non-null     object\n",
      " 6   airdate   36 non-null     object\n",
      " 7   airtime   36 non-null     object\n",
      " 8   airstamp  36 non-null     object\n",
      " 9   runtime   36 non-null     int64 \n",
      " 10  rating    36 non-null     object\n",
      " 11  image     36 non-null     object\n",
      " 12  summary   36 non-null     object\n",
      " 13  _links    36 non-null     object\n",
      "dtypes: int64(4), object(10)\n",
      "memory usage: 4.1+ KB\n"
     ]
    }
   ],
   "source": [
    "df.info()"
   ]
  },
  {
   "attachments": {},
   "cell_type": "markdown",
   "metadata": {},
   "source": [
    "# 1. Getting the overall rating (median rating) per season:"
   ]
  },
  {
   "cell_type": "code",
   "execution_count": 4,
   "metadata": {},
   "outputs": [
    {
     "data": {
      "text/plain": [
       "{'average': 7.7}    7\n",
       "{'average': 8}      6\n",
       "{'average': 7.9}    4\n",
       "{'average': 7.8}    4\n",
       "{'average': 7.5}    4\n",
       "{'average': 7.6}    3\n",
       "{'average': 8.5}    2\n",
       "{'average': 8.7}    2\n",
       "{'average': 8.6}    1\n",
       "{'average': 8.4}    1\n",
       "{'average': 7.1}    1\n",
       "{'average': 7.4}    1\n",
       "Name: rating, dtype: int64"
      ]
     },
     "execution_count": 4,
     "metadata": {},
     "output_type": "execute_result"
    }
   ],
   "source": [
    "df[\"rating\"].value_counts()"
   ]
  },
  {
   "attachments": {},
   "cell_type": "markdown",
   "metadata": {},
   "source": [
    "## Creating two new columns, `rating_value` and `rating_category` from the already existing `rating` column:"
   ]
  },
  {
   "cell_type": "code",
   "execution_count": 5,
   "metadata": {},
   "outputs": [],
   "source": [
    "rating_values = []\n",
    "for i in range(len(df)):\n",
    "    for j in df[\"rating\"][i].values():\n",
    "        rating_values.append(j)"
   ]
  },
  {
   "cell_type": "code",
   "execution_count": 6,
   "metadata": {},
   "outputs": [
    {
     "data": {
      "text/html": [
       "<div>\n",
       "<style scoped>\n",
       "    .dataframe tbody tr th:only-of-type {\n",
       "        vertical-align: middle;\n",
       "    }\n",
       "\n",
       "    .dataframe tbody tr th {\n",
       "        vertical-align: top;\n",
       "    }\n",
       "\n",
       "    .dataframe thead th {\n",
       "        text-align: right;\n",
       "    }\n",
       "</style>\n",
       "<table border=\"1\" class=\"dataframe\">\n",
       "  <thead>\n",
       "    <tr style=\"text-align: right;\">\n",
       "      <th></th>\n",
       "      <th>id</th>\n",
       "      <th>url</th>\n",
       "      <th>name</th>\n",
       "      <th>season</th>\n",
       "      <th>number</th>\n",
       "      <th>type</th>\n",
       "      <th>airdate</th>\n",
       "      <th>airtime</th>\n",
       "      <th>airstamp</th>\n",
       "      <th>runtime</th>\n",
       "      <th>rating</th>\n",
       "      <th>image</th>\n",
       "      <th>summary</th>\n",
       "      <th>_links</th>\n",
       "      <th>rating_value</th>\n",
       "    </tr>\n",
       "  </thead>\n",
       "  <tbody>\n",
       "    <tr>\n",
       "      <th>0</th>\n",
       "      <td>869671</td>\n",
       "      <td>https://www.tvmaze.com/episodes/869671/westwor...</td>\n",
       "      <td>The Original</td>\n",
       "      <td>1</td>\n",
       "      <td>1</td>\n",
       "      <td>regular</td>\n",
       "      <td>2016-10-02</td>\n",
       "      <td>21:00</td>\n",
       "      <td>2016-10-03T01:00:00+00:00</td>\n",
       "      <td>68</td>\n",
       "      <td>{'average': 8}</td>\n",
       "      <td>{'medium': 'https://static.tvmaze.com/uploads/...</td>\n",
       "      <td>&lt;p&gt;A woman named Dolores is a free spirit in t...</td>\n",
       "      <td>{'self': {'href': 'https://api.tvmaze.com/epis...</td>\n",
       "      <td>8.0</td>\n",
       "    </tr>\n",
       "    <tr>\n",
       "      <th>1</th>\n",
       "      <td>911201</td>\n",
       "      <td>https://www.tvmaze.com/episodes/911201/westwor...</td>\n",
       "      <td>Chestnut</td>\n",
       "      <td>1</td>\n",
       "      <td>2</td>\n",
       "      <td>regular</td>\n",
       "      <td>2016-10-09</td>\n",
       "      <td>21:00</td>\n",
       "      <td>2016-10-10T01:00:00+00:00</td>\n",
       "      <td>60</td>\n",
       "      <td>{'average': 7.7}</td>\n",
       "      <td>{'medium': 'https://static.tvmaze.com/uploads/...</td>\n",
       "      <td>&lt;p&gt;Bernard suspects that someone is sabotaging...</td>\n",
       "      <td>{'self': {'href': 'https://api.tvmaze.com/epis...</td>\n",
       "      <td>7.7</td>\n",
       "    </tr>\n",
       "    <tr>\n",
       "      <th>2</th>\n",
       "      <td>911204</td>\n",
       "      <td>https://www.tvmaze.com/episodes/911204/westwor...</td>\n",
       "      <td>The Stray</td>\n",
       "      <td>1</td>\n",
       "      <td>3</td>\n",
       "      <td>regular</td>\n",
       "      <td>2016-10-16</td>\n",
       "      <td>21:00</td>\n",
       "      <td>2016-10-17T01:00:00+00:00</td>\n",
       "      <td>60</td>\n",
       "      <td>{'average': 7.6}</td>\n",
       "      <td>{'medium': 'https://static.tvmaze.com/uploads/...</td>\n",
       "      <td>&lt;p&gt;Bernard continues to investigate Dolores' s...</td>\n",
       "      <td>{'self': {'href': 'https://api.tvmaze.com/epis...</td>\n",
       "      <td>7.6</td>\n",
       "    </tr>\n",
       "  </tbody>\n",
       "</table>\n",
       "</div>"
      ],
      "text/plain": [
       "       id                                                url          name  \\\n",
       "0  869671  https://www.tvmaze.com/episodes/869671/westwor...  The Original   \n",
       "1  911201  https://www.tvmaze.com/episodes/911201/westwor...      Chestnut   \n",
       "2  911204  https://www.tvmaze.com/episodes/911204/westwor...     The Stray   \n",
       "\n",
       "   season  number     type     airdate airtime                   airstamp  \\\n",
       "0       1       1  regular  2016-10-02   21:00  2016-10-03T01:00:00+00:00   \n",
       "1       1       2  regular  2016-10-09   21:00  2016-10-10T01:00:00+00:00   \n",
       "2       1       3  regular  2016-10-16   21:00  2016-10-17T01:00:00+00:00   \n",
       "\n",
       "   runtime            rating  \\\n",
       "0       68    {'average': 8}   \n",
       "1       60  {'average': 7.7}   \n",
       "2       60  {'average': 7.6}   \n",
       "\n",
       "                                               image  \\\n",
       "0  {'medium': 'https://static.tvmaze.com/uploads/...   \n",
       "1  {'medium': 'https://static.tvmaze.com/uploads/...   \n",
       "2  {'medium': 'https://static.tvmaze.com/uploads/...   \n",
       "\n",
       "                                             summary  \\\n",
       "0  <p>A woman named Dolores is a free spirit in t...   \n",
       "1  <p>Bernard suspects that someone is sabotaging...   \n",
       "2  <p>Bernard continues to investigate Dolores' s...   \n",
       "\n",
       "                                              _links  rating_value  \n",
       "0  {'self': {'href': 'https://api.tvmaze.com/epis...           8.0  \n",
       "1  {'self': {'href': 'https://api.tvmaze.com/epis...           7.7  \n",
       "2  {'self': {'href': 'https://api.tvmaze.com/epis...           7.6  "
      ]
     },
     "execution_count": 6,
     "metadata": {},
     "output_type": "execute_result"
    }
   ],
   "source": [
    "df[\"rating_value\"] = rating_values\n",
    "df.head(3)"
   ]
  },
  {
   "cell_type": "code",
   "execution_count": 7,
   "metadata": {},
   "outputs": [],
   "source": [
    "rating_category = []\n",
    "for i in range(len(df)):\n",
    "    for j in df[\"rating\"][i].keys():\n",
    "        rating_category.append(j)"
   ]
  },
  {
   "cell_type": "code",
   "execution_count": 8,
   "metadata": {},
   "outputs": [
    {
     "data": {
      "text/html": [
       "<div>\n",
       "<style scoped>\n",
       "    .dataframe tbody tr th:only-of-type {\n",
       "        vertical-align: middle;\n",
       "    }\n",
       "\n",
       "    .dataframe tbody tr th {\n",
       "        vertical-align: top;\n",
       "    }\n",
       "\n",
       "    .dataframe thead th {\n",
       "        text-align: right;\n",
       "    }\n",
       "</style>\n",
       "<table border=\"1\" class=\"dataframe\">\n",
       "  <thead>\n",
       "    <tr style=\"text-align: right;\">\n",
       "      <th></th>\n",
       "      <th>id</th>\n",
       "      <th>url</th>\n",
       "      <th>name</th>\n",
       "      <th>season</th>\n",
       "      <th>number</th>\n",
       "      <th>type</th>\n",
       "      <th>airdate</th>\n",
       "      <th>airtime</th>\n",
       "      <th>airstamp</th>\n",
       "      <th>runtime</th>\n",
       "      <th>rating</th>\n",
       "      <th>image</th>\n",
       "      <th>summary</th>\n",
       "      <th>_links</th>\n",
       "      <th>rating_value</th>\n",
       "      <th>rating_category</th>\n",
       "    </tr>\n",
       "  </thead>\n",
       "  <tbody>\n",
       "    <tr>\n",
       "      <th>0</th>\n",
       "      <td>869671</td>\n",
       "      <td>https://www.tvmaze.com/episodes/869671/westwor...</td>\n",
       "      <td>The Original</td>\n",
       "      <td>1</td>\n",
       "      <td>1</td>\n",
       "      <td>regular</td>\n",
       "      <td>2016-10-02</td>\n",
       "      <td>21:00</td>\n",
       "      <td>2016-10-03T01:00:00+00:00</td>\n",
       "      <td>68</td>\n",
       "      <td>{'average': 8}</td>\n",
       "      <td>{'medium': 'https://static.tvmaze.com/uploads/...</td>\n",
       "      <td>&lt;p&gt;A woman named Dolores is a free spirit in t...</td>\n",
       "      <td>{'self': {'href': 'https://api.tvmaze.com/epis...</td>\n",
       "      <td>8.0</td>\n",
       "      <td>average</td>\n",
       "    </tr>\n",
       "    <tr>\n",
       "      <th>1</th>\n",
       "      <td>911201</td>\n",
       "      <td>https://www.tvmaze.com/episodes/911201/westwor...</td>\n",
       "      <td>Chestnut</td>\n",
       "      <td>1</td>\n",
       "      <td>2</td>\n",
       "      <td>regular</td>\n",
       "      <td>2016-10-09</td>\n",
       "      <td>21:00</td>\n",
       "      <td>2016-10-10T01:00:00+00:00</td>\n",
       "      <td>60</td>\n",
       "      <td>{'average': 7.7}</td>\n",
       "      <td>{'medium': 'https://static.tvmaze.com/uploads/...</td>\n",
       "      <td>&lt;p&gt;Bernard suspects that someone is sabotaging...</td>\n",
       "      <td>{'self': {'href': 'https://api.tvmaze.com/epis...</td>\n",
       "      <td>7.7</td>\n",
       "      <td>average</td>\n",
       "    </tr>\n",
       "    <tr>\n",
       "      <th>2</th>\n",
       "      <td>911204</td>\n",
       "      <td>https://www.tvmaze.com/episodes/911204/westwor...</td>\n",
       "      <td>The Stray</td>\n",
       "      <td>1</td>\n",
       "      <td>3</td>\n",
       "      <td>regular</td>\n",
       "      <td>2016-10-16</td>\n",
       "      <td>21:00</td>\n",
       "      <td>2016-10-17T01:00:00+00:00</td>\n",
       "      <td>60</td>\n",
       "      <td>{'average': 7.6}</td>\n",
       "      <td>{'medium': 'https://static.tvmaze.com/uploads/...</td>\n",
       "      <td>&lt;p&gt;Bernard continues to investigate Dolores' s...</td>\n",
       "      <td>{'self': {'href': 'https://api.tvmaze.com/epis...</td>\n",
       "      <td>7.6</td>\n",
       "      <td>average</td>\n",
       "    </tr>\n",
       "  </tbody>\n",
       "</table>\n",
       "</div>"
      ],
      "text/plain": [
       "       id                                                url          name  \\\n",
       "0  869671  https://www.tvmaze.com/episodes/869671/westwor...  The Original   \n",
       "1  911201  https://www.tvmaze.com/episodes/911201/westwor...      Chestnut   \n",
       "2  911204  https://www.tvmaze.com/episodes/911204/westwor...     The Stray   \n",
       "\n",
       "   season  number     type     airdate airtime                   airstamp  \\\n",
       "0       1       1  regular  2016-10-02   21:00  2016-10-03T01:00:00+00:00   \n",
       "1       1       2  regular  2016-10-09   21:00  2016-10-10T01:00:00+00:00   \n",
       "2       1       3  regular  2016-10-16   21:00  2016-10-17T01:00:00+00:00   \n",
       "\n",
       "   runtime            rating  \\\n",
       "0       68    {'average': 8}   \n",
       "1       60  {'average': 7.7}   \n",
       "2       60  {'average': 7.6}   \n",
       "\n",
       "                                               image  \\\n",
       "0  {'medium': 'https://static.tvmaze.com/uploads/...   \n",
       "1  {'medium': 'https://static.tvmaze.com/uploads/...   \n",
       "2  {'medium': 'https://static.tvmaze.com/uploads/...   \n",
       "\n",
       "                                             summary  \\\n",
       "0  <p>A woman named Dolores is a free spirit in t...   \n",
       "1  <p>Bernard suspects that someone is sabotaging...   \n",
       "2  <p>Bernard continues to investigate Dolores' s...   \n",
       "\n",
       "                                              _links  rating_value  \\\n",
       "0  {'self': {'href': 'https://api.tvmaze.com/epis...           8.0   \n",
       "1  {'self': {'href': 'https://api.tvmaze.com/epis...           7.7   \n",
       "2  {'self': {'href': 'https://api.tvmaze.com/epis...           7.6   \n",
       "\n",
       "  rating_category  \n",
       "0         average  \n",
       "1         average  \n",
       "2         average  "
      ]
     },
     "execution_count": 8,
     "metadata": {},
     "output_type": "execute_result"
    }
   ],
   "source": [
    "df[\"rating_category\"] = rating_category\n",
    "df.head(3)"
   ]
  },
  {
   "attachments": {},
   "cell_type": "markdown",
   "metadata": {},
   "source": [
    "## Grouping by `season`:"
   ]
  },
  {
   "cell_type": "code",
   "execution_count": 9,
   "metadata": {},
   "outputs": [
    {
     "data": {
      "text/plain": [
       "<pandas.core.groupby.generic.DataFrameGroupBy object at 0x000002898062E9B0>"
      ]
     },
     "execution_count": 9,
     "metadata": {},
     "output_type": "execute_result"
    }
   ],
   "source": [
    "season_group = df.groupby([\"season\"])\n",
    "season_group"
   ]
  },
  {
   "attachments": {},
   "cell_type": "markdown",
   "metadata": {},
   "source": [
    "## Median rating per season:"
   ]
  },
  {
   "cell_type": "code",
   "execution_count": 10,
   "metadata": {},
   "outputs": [
    {
     "name": "stderr",
     "output_type": "stream",
     "text": [
      "C:\\Users\\Sushrut\\AppData\\Local\\Temp\\ipykernel_1400\\1951601093.py:1: FutureWarning: The default value of numeric_only in DataFrameGroupBy.median is deprecated. In a future version, numeric_only will default to False. Either specify numeric_only or select only columns which should be valid for the function.\n",
      "  season_group.agg(\"median\")[\"rating_value\"]\n"
     ]
    },
    {
     "data": {
      "text/plain": [
       "season\n",
       "1    8.00\n",
       "2    7.85\n",
       "3    7.80\n",
       "4    7.55\n",
       "Name: rating_value, dtype: float64"
      ]
     },
     "execution_count": 10,
     "metadata": {},
     "output_type": "execute_result"
    }
   ],
   "source": [
    "season_group.agg(\"median\")[\"rating_value\"]"
   ]
  },
  {
   "cell_type": "code",
   "execution_count": 11,
   "metadata": {},
   "outputs": [
    {
     "name": "stderr",
     "output_type": "stream",
     "text": [
      "C:\\Users\\Sushrut\\AppData\\Local\\Temp\\ipykernel_1400\\4003256389.py:1: FutureWarning: The default value of numeric_only in DataFrameGroupBy.median is deprecated. In a future version, numeric_only will default to False. Either specify numeric_only or select only columns which should be valid for the function.\n",
      "  season_group.agg(\"median\")[\"rating_value\"].plot(kind=\"bar\");\n"
     ]
    },
    {
     "data": {
      "text/plain": [
       "Text(0, 0.5, 'Median rating value')"
      ]
     },
     "execution_count": 11,
     "metadata": {},
     "output_type": "execute_result"
    },
    {
     "data": {
      "image/png": "[encoded data removed]",
      "text/plain": [
       "<Figure size 640x480 with 1 Axes>"
      ]
     },
     "metadata": {},
     "output_type": "display_data"
    }
   ],
   "source": [
    "season_group.agg(\"median\")[\"rating_value\"].plot(kind=\"bar\");\n",
    "plt.ylabel(\"Median rating value\")"
   ]
  },
  {
   "cell_type": "code",
   "execution_count": 12,
   "metadata": {},
   "outputs": [
    {
     "data": {
      "text/plain": [
       "season  rating_category\n",
       "1       average            10\n",
       "2       average            10\n",
       "3       average             8\n",
       "4       average             8\n",
       "Name: rating_category, dtype: int64"
      ]
     },
     "execution_count": 12,
     "metadata": {},
     "output_type": "execute_result"
    }
   ],
   "source": [
    "season_group[\"rating_category\"].value_counts()"
   ]
  },
  {
   "attachments": {},
   "cell_type": "markdown",
   "metadata": {},
   "source": [
    "# 2. Getting episode names whose average rating is more than 8 for every season:"
   ]
  },
  {
   "attachments": {},
   "cell_type": "markdown",
   "metadata": {},
   "source": [
    "## Filtering for `rating_value` to be greater than 8:"
   ]
  },
  {
   "cell_type": "code",
   "execution_count": 13,
   "metadata": {},
   "outputs": [
    {
     "data": {
      "text/html": [
       "<div>\n",
       "<style scoped>\n",
       "    .dataframe tbody tr th:only-of-type {\n",
       "        vertical-align: middle;\n",
       "    }\n",
       "\n",
       "    .dataframe tbody tr th {\n",
       "        vertical-align: top;\n",
       "    }\n",
       "\n",
       "    .dataframe thead th {\n",
       "        text-align: right;\n",
       "    }\n",
       "</style>\n",
       "<table border=\"1\" class=\"dataframe\">\n",
       "  <thead>\n",
       "    <tr style=\"text-align: right;\">\n",
       "      <th></th>\n",
       "      <th>id</th>\n",
       "      <th>url</th>\n",
       "      <th>name</th>\n",
       "      <th>season</th>\n",
       "      <th>number</th>\n",
       "      <th>type</th>\n",
       "      <th>airdate</th>\n",
       "      <th>airtime</th>\n",
       "      <th>airstamp</th>\n",
       "      <th>runtime</th>\n",
       "      <th>rating</th>\n",
       "      <th>image</th>\n",
       "      <th>summary</th>\n",
       "      <th>_links</th>\n",
       "      <th>rating_value</th>\n",
       "      <th>rating_category</th>\n",
       "    </tr>\n",
       "  </thead>\n",
       "  <tbody>\n",
       "    <tr>\n",
       "      <th>6</th>\n",
       "      <td>938404</td>\n",
       "      <td>https://www.tvmaze.com/episodes/938404/westwor...</td>\n",
       "      <td>Trompe L'Oeil</td>\n",
       "      <td>1</td>\n",
       "      <td>7</td>\n",
       "      <td>regular</td>\n",
       "      <td>2016-11-13</td>\n",
       "      <td>21:00</td>\n",
       "      <td>2016-11-14T02:00:00+00:00</td>\n",
       "      <td>60</td>\n",
       "      <td>{'average': 8.6}</td>\n",
       "      <td>{'medium': 'https://static.tvmaze.com/uploads/...</td>\n",
       "      <td>&lt;p&gt;While William and Dolores travel to the unc...</td>\n",
       "      <td>{'self': {'href': 'https://api.tvmaze.com/epis...</td>\n",
       "      <td>8.6</td>\n",
       "      <td>average</td>\n",
       "    </tr>\n",
       "    <tr>\n",
       "      <th>8</th>\n",
       "      <td>943066</td>\n",
       "      <td>https://www.tvmaze.com/episodes/943066/westwor...</td>\n",
       "      <td>The Well-Tempered Clavier</td>\n",
       "      <td>1</td>\n",
       "      <td>9</td>\n",
       "      <td>regular</td>\n",
       "      <td>2016-11-27</td>\n",
       "      <td>21:00</td>\n",
       "      <td>2016-11-28T02:00:00+00:00</td>\n",
       "      <td>60</td>\n",
       "      <td>{'average': 8.5}</td>\n",
       "      <td>{'medium': 'https://static.tvmaze.com/uploads/...</td>\n",
       "      <td>&lt;p&gt;Bernard forces Robert to take him back into...</td>\n",
       "      <td>{'self': {'href': 'https://api.tvmaze.com/epis...</td>\n",
       "      <td>8.5</td>\n",
       "      <td>average</td>\n",
       "    </tr>\n",
       "    <tr>\n",
       "      <th>9</th>\n",
       "      <td>943067</td>\n",
       "      <td>https://www.tvmaze.com/episodes/943067/westwor...</td>\n",
       "      <td>The Bicameral Mind</td>\n",
       "      <td>1</td>\n",
       "      <td>10</td>\n",
       "      <td>regular</td>\n",
       "      <td>2016-12-04</td>\n",
       "      <td>21:00</td>\n",
       "      <td>2016-12-05T02:00:00+00:00</td>\n",
       "      <td>90</td>\n",
       "      <td>{'average': 8.7}</td>\n",
       "      <td>{'medium': 'https://static.tvmaze.com/uploads/...</td>\n",
       "      <td>&lt;p&gt;Delores finds out the truth about William's...</td>\n",
       "      <td>{'self': {'href': 'https://api.tvmaze.com/epis...</td>\n",
       "      <td>8.7</td>\n",
       "      <td>average</td>\n",
       "    </tr>\n",
       "    <tr>\n",
       "      <th>17</th>\n",
       "      <td>1459788</td>\n",
       "      <td>https://www.tvmaze.com/episodes/1459788/westwo...</td>\n",
       "      <td>Kiksuya</td>\n",
       "      <td>2</td>\n",
       "      <td>8</td>\n",
       "      <td>regular</td>\n",
       "      <td>2018-06-10</td>\n",
       "      <td>21:00</td>\n",
       "      <td>2018-06-11T01:00:00+00:00</td>\n",
       "      <td>60</td>\n",
       "      <td>{'average': 8.7}</td>\n",
       "      <td>{'medium': 'https://static.tvmaze.com/uploads/...</td>\n",
       "      <td>&lt;p&gt;Another of Westworld's Host revolutionaries...</td>\n",
       "      <td>{'self': {'href': 'https://api.tvmaze.com/epis...</td>\n",
       "      <td>8.7</td>\n",
       "      <td>average</td>\n",
       "    </tr>\n",
       "    <tr>\n",
       "      <th>18</th>\n",
       "      <td>1459789</td>\n",
       "      <td>https://www.tvmaze.com/episodes/1459789/westwo...</td>\n",
       "      <td>Vanishing Point</td>\n",
       "      <td>2</td>\n",
       "      <td>9</td>\n",
       "      <td>regular</td>\n",
       "      <td>2018-06-17</td>\n",
       "      <td>21:00</td>\n",
       "      <td>2018-06-18T01:00:00+00:00</td>\n",
       "      <td>60</td>\n",
       "      <td>{'average': 8.4}</td>\n",
       "      <td>{'medium': 'https://static.tvmaze.com/uploads/...</td>\n",
       "      <td>&lt;p&gt;The Man learns that his grip on reality isn...</td>\n",
       "      <td>{'self': {'href': 'https://api.tvmaze.com/epis...</td>\n",
       "      <td>8.4</td>\n",
       "      <td>average</td>\n",
       "    </tr>\n",
       "    <tr>\n",
       "      <th>19</th>\n",
       "      <td>1459790</td>\n",
       "      <td>https://www.tvmaze.com/episodes/1459790/westwo...</td>\n",
       "      <td>The Passenger</td>\n",
       "      <td>2</td>\n",
       "      <td>10</td>\n",
       "      <td>regular</td>\n",
       "      <td>2018-06-24</td>\n",
       "      <td>21:00</td>\n",
       "      <td>2018-06-25T01:00:00+00:00</td>\n",
       "      <td>90</td>\n",
       "      <td>{'average': 8.5}</td>\n",
       "      <td>{'medium': 'https://static.tvmaze.com/uploads/...</td>\n",
       "      <td>&lt;p&gt;The Man faces a personal reckoning, while A...</td>\n",
       "      <td>{'self': {'href': 'https://api.tvmaze.com/epis...</td>\n",
       "      <td>8.5</td>\n",
       "      <td>average</td>\n",
       "    </tr>\n",
       "  </tbody>\n",
       "</table>\n",
       "</div>"
      ],
      "text/plain": [
       "         id                                                url  \\\n",
       "6    938404  https://www.tvmaze.com/episodes/938404/westwor...   \n",
       "8    943066  https://www.tvmaze.com/episodes/943066/westwor...   \n",
       "9    943067  https://www.tvmaze.com/episodes/943067/westwor...   \n",
       "17  1459788  https://www.tvmaze.com/episodes/1459788/westwo...   \n",
       "18  1459789  https://www.tvmaze.com/episodes/1459789/westwo...   \n",
       "19  1459790  https://www.tvmaze.com/episodes/1459790/westwo...   \n",
       "\n",
       "                         name  season  number     type     airdate airtime  \\\n",
       "6               Trompe L'Oeil       1       7  regular  2016-11-13   21:00   \n",
       "8   The Well-Tempered Clavier       1       9  regular  2016-11-27   21:00   \n",
       "9          The Bicameral Mind       1      10  regular  2016-12-04   21:00   \n",
       "17                    Kiksuya       2       8  regular  2018-06-10   21:00   \n",
       "18            Vanishing Point       2       9  regular  2018-06-17   21:00   \n",
       "19              The Passenger       2      10  regular  2018-06-24   21:00   \n",
       "\n",
       "                     airstamp  runtime            rating  \\\n",
       "6   2016-11-14T02:00:00+00:00       60  {'average': 8.6}   \n",
       "8   2016-11-28T02:00:00+00:00       60  {'average': 8.5}   \n",
       "9   2016-12-05T02:00:00+00:00       90  {'average': 8.7}   \n",
       "17  2018-06-11T01:00:00+00:00       60  {'average': 8.7}   \n",
       "18  2018-06-18T01:00:00+00:00       60  {'average': 8.4}   \n",
       "19  2018-06-25T01:00:00+00:00       90  {'average': 8.5}   \n",
       "\n",
       "                                                image  \\\n",
       "6   {'medium': 'https://static.tvmaze.com/uploads/...   \n",
       "8   {'medium': 'https://static.tvmaze.com/uploads/...   \n",
       "9   {'medium': 'https://static.tvmaze.com/uploads/...   \n",
       "17  {'medium': 'https://static.tvmaze.com/uploads/...   \n",
       "18  {'medium': 'https://static.tvmaze.com/uploads/...   \n",
       "19  {'medium': 'https://static.tvmaze.com/uploads/...   \n",
       "\n",
       "                                              summary  \\\n",
       "6   <p>While William and Dolores travel to the unc...   \n",
       "8   <p>Bernard forces Robert to take him back into...   \n",
       "9   <p>Delores finds out the truth about William's...   \n",
       "17  <p>Another of Westworld's Host revolutionaries...   \n",
       "18  <p>The Man learns that his grip on reality isn...   \n",
       "19  <p>The Man faces a personal reckoning, while A...   \n",
       "\n",
       "                                               _links  rating_value  \\\n",
       "6   {'self': {'href': 'https://api.tvmaze.com/epis...           8.6   \n",
       "8   {'self': {'href': 'https://api.tvmaze.com/epis...           8.5   \n",
       "9   {'self': {'href': 'https://api.tvmaze.com/epis...           8.7   \n",
       "17  {'self': {'href': 'https://api.tvmaze.com/epis...           8.7   \n",
       "18  {'self': {'href': 'https://api.tvmaze.com/epis...           8.4   \n",
       "19  {'self': {'href': 'https://api.tvmaze.com/epis...           8.5   \n",
       "\n",
       "   rating_category  \n",
       "6          average  \n",
       "8          average  \n",
       "9          average  \n",
       "17         average  \n",
       "18         average  \n",
       "19         average  "
      ]
     },
     "execution_count": 13,
     "metadata": {},
     "output_type": "execute_result"
    }
   ],
   "source": [
    "df[df[\"rating_value\"] > 8]"
   ]
  },
  {
   "attachments": {},
   "cell_type": "markdown",
   "metadata": {},
   "source": [
    "## Names for these episodes:"
   ]
  },
  {
   "cell_type": "code",
   "execution_count": 14,
   "metadata": {},
   "outputs": [
    {
     "data": {
      "text/plain": [
       "array([\"Trompe L'Oeil\", 'The Well-Tempered Clavier', 'The Bicameral Mind',\n",
       "       'Kiksuya', 'Vanishing Point', 'The Passenger'], dtype=object)"
      ]
     },
     "execution_count": 14,
     "metadata": {},
     "output_type": "execute_result"
    }
   ],
   "source": [
    "df[df[\"rating_value\"] > 8][\"name\"].unique()"
   ]
  },
  {
   "attachments": {},
   "cell_type": "markdown",
   "metadata": {},
   "source": [
    "# 3. Getting episode names that aired before May 2019:"
   ]
  },
  {
   "cell_type": "code",
   "execution_count": 15,
   "metadata": {},
   "outputs": [
    {
     "name": "stdout",
     "output_type": "stream",
     "text": [
      "<class 'pandas.core.frame.DataFrame'>\n",
      "RangeIndex: 36 entries, 0 to 35\n",
      "Data columns (total 16 columns):\n",
      " #   Column           Non-Null Count  Dtype         \n",
      "---  ------           --------------  -----         \n",
      " 0   id               36 non-null     int64         \n",
      " 1   url              36 non-null     object        \n",
      " 2   name             36 non-null     object        \n",
      " 3   season           36 non-null     int64         \n",
      " 4   number           36 non-null     int64         \n",
      " 5   type             36 non-null     object        \n",
      " 6   airdate          36 non-null     datetime64[ns]\n",
      " 7   airtime          36 non-null     object        \n",
      " 8   airstamp         36 non-null     object        \n",
      " 9   runtime          36 non-null     int64         \n",
      " 10  rating           36 non-null     object        \n",
      " 11  image            36 non-null     object        \n",
      " 12  summary          36 non-null     object        \n",
      " 13  _links           36 non-null     object        \n",
      " 14  rating_value     36 non-null     float64       \n",
      " 15  rating_category  36 non-null     object        \n",
      "dtypes: datetime64[ns](1), float64(1), int64(4), object(10)\n",
      "memory usage: 4.6+ KB\n"
     ]
    }
   ],
   "source": [
    "df[\"airdate\"] = pd.to_datetime(df[\"airdate\"])\n",
    "df.info()"
   ]
  },
  {
   "attachments": {},
   "cell_type": "markdown",
   "metadata": {},
   "source": [
    "## Filtering for `air_date` before May 2019:"
   ]
  },
  {
   "cell_type": "code",
   "execution_count": 16,
   "metadata": {},
   "outputs": [
    {
     "data": {
      "text/html": [
       "<div>\n",
       "<style scoped>\n",
       "    .dataframe tbody tr th:only-of-type {\n",
       "        vertical-align: middle;\n",
       "    }\n",
       "\n",
       "    .dataframe tbody tr th {\n",
       "        vertical-align: top;\n",
       "    }\n",
       "\n",
       "    .dataframe thead th {\n",
       "        text-align: right;\n",
       "    }\n",
       "</style>\n",
       "<table border=\"1\" class=\"dataframe\">\n",
       "  <thead>\n",
       "    <tr style=\"text-align: right;\">\n",
       "      <th></th>\n",
       "      <th>id</th>\n",
       "      <th>url</th>\n",
       "      <th>name</th>\n",
       "      <th>season</th>\n",
       "      <th>number</th>\n",
       "      <th>type</th>\n",
       "      <th>airdate</th>\n",
       "      <th>airtime</th>\n",
       "      <th>airstamp</th>\n",
       "      <th>runtime</th>\n",
       "      <th>rating</th>\n",
       "      <th>image</th>\n",
       "      <th>summary</th>\n",
       "      <th>_links</th>\n",
       "      <th>rating_value</th>\n",
       "      <th>rating_category</th>\n",
       "    </tr>\n",
       "  </thead>\n",
       "  <tbody>\n",
       "    <tr>\n",
       "      <th>0</th>\n",
       "      <td>869671</td>\n",
       "      <td>https://www.tvmaze.com/episodes/869671/westwor...</td>\n",
       "      <td>The Original</td>\n",
       "      <td>1</td>\n",
       "      <td>1</td>\n",
       "      <td>regular</td>\n",
       "      <td>2016-10-02</td>\n",
       "      <td>21:00</td>\n",
       "      <td>2016-10-03T01:00:00+00:00</td>\n",
       "      <td>68</td>\n",
       "      <td>{'average': 8}</td>\n",
       "      <td>{'medium': 'https://static.tvmaze.com/uploads/...</td>\n",
       "      <td>&lt;p&gt;A woman named Dolores is a free spirit in t...</td>\n",
       "      <td>{'self': {'href': 'https://api.tvmaze.com/epis...</td>\n",
       "      <td>8.0</td>\n",
       "      <td>average</td>\n",
       "    </tr>\n",
       "    <tr>\n",
       "      <th>1</th>\n",
       "      <td>911201</td>\n",
       "      <td>https://www.tvmaze.com/episodes/911201/westwor...</td>\n",
       "      <td>Chestnut</td>\n",
       "      <td>1</td>\n",
       "      <td>2</td>\n",
       "      <td>regular</td>\n",
       "      <td>2016-10-09</td>\n",
       "      <td>21:00</td>\n",
       "      <td>2016-10-10T01:00:00+00:00</td>\n",
       "      <td>60</td>\n",
       "      <td>{'average': 7.7}</td>\n",
       "      <td>{'medium': 'https://static.tvmaze.com/uploads/...</td>\n",
       "      <td>&lt;p&gt;Bernard suspects that someone is sabotaging...</td>\n",
       "      <td>{'self': {'href': 'https://api.tvmaze.com/epis...</td>\n",
       "      <td>7.7</td>\n",
       "      <td>average</td>\n",
       "    </tr>\n",
       "    <tr>\n",
       "      <th>2</th>\n",
       "      <td>911204</td>\n",
       "      <td>https://www.tvmaze.com/episodes/911204/westwor...</td>\n",
       "      <td>The Stray</td>\n",
       "      <td>1</td>\n",
       "      <td>3</td>\n",
       "      <td>regular</td>\n",
       "      <td>2016-10-16</td>\n",
       "      <td>21:00</td>\n",
       "      <td>2016-10-17T01:00:00+00:00</td>\n",
       "      <td>60</td>\n",
       "      <td>{'average': 7.6}</td>\n",
       "      <td>{'medium': 'https://static.tvmaze.com/uploads/...</td>\n",
       "      <td>&lt;p&gt;Bernard continues to investigate Dolores' s...</td>\n",
       "      <td>{'self': {'href': 'https://api.tvmaze.com/epis...</td>\n",
       "      <td>7.6</td>\n",
       "      <td>average</td>\n",
       "    </tr>\n",
       "    <tr>\n",
       "      <th>3</th>\n",
       "      <td>911205</td>\n",
       "      <td>https://www.tvmaze.com/episodes/911205/westwor...</td>\n",
       "      <td>Dissonance Theory</td>\n",
       "      <td>1</td>\n",
       "      <td>4</td>\n",
       "      <td>regular</td>\n",
       "      <td>2016-10-23</td>\n",
       "      <td>21:00</td>\n",
       "      <td>2016-10-24T01:00:00+00:00</td>\n",
       "      <td>60</td>\n",
       "      <td>{'average': 7.9}</td>\n",
       "      <td>{'medium': 'https://static.tvmaze.com/uploads/...</td>\n",
       "      <td>&lt;p&gt;While Dolores joins William and Logan on th...</td>\n",
       "      <td>{'self': {'href': 'https://api.tvmaze.com/epis...</td>\n",
       "      <td>7.9</td>\n",
       "      <td>average</td>\n",
       "    </tr>\n",
       "    <tr>\n",
       "      <th>4</th>\n",
       "      <td>927174</td>\n",
       "      <td>https://www.tvmaze.com/episodes/927174/westwor...</td>\n",
       "      <td>Contrapasso</td>\n",
       "      <td>1</td>\n",
       "      <td>5</td>\n",
       "      <td>regular</td>\n",
       "      <td>2016-10-30</td>\n",
       "      <td>21:00</td>\n",
       "      <td>2016-10-31T01:00:00+00:00</td>\n",
       "      <td>60</td>\n",
       "      <td>{'average': 8}</td>\n",
       "      <td>{'medium': 'https://static.tvmaze.com/uploads/...</td>\n",
       "      <td>&lt;p&gt;Dolores takes the first step on her path of...</td>\n",
       "      <td>{'self': {'href': 'https://api.tvmaze.com/epis...</td>\n",
       "      <td>8.0</td>\n",
       "      <td>average</td>\n",
       "    </tr>\n",
       "    <tr>\n",
       "      <th>5</th>\n",
       "      <td>932057</td>\n",
       "      <td>https://www.tvmaze.com/episodes/932057/westwor...</td>\n",
       "      <td>The Adversary</td>\n",
       "      <td>1</td>\n",
       "      <td>6</td>\n",
       "      <td>regular</td>\n",
       "      <td>2016-11-06</td>\n",
       "      <td>21:00</td>\n",
       "      <td>2016-11-07T02:00:00+00:00</td>\n",
       "      <td>60</td>\n",
       "      <td>{'average': 8}</td>\n",
       "      <td>{'medium': 'https://static.tvmaze.com/uploads/...</td>\n",
       "      <td>&lt;p&gt;While Maeve convinces Felix to show her \"up...</td>\n",
       "      <td>{'self': {'href': 'https://api.tvmaze.com/epis...</td>\n",
       "      <td>8.0</td>\n",
       "      <td>average</td>\n",
       "    </tr>\n",
       "    <tr>\n",
       "      <th>6</th>\n",
       "      <td>938404</td>\n",
       "      <td>https://www.tvmaze.com/episodes/938404/westwor...</td>\n",
       "      <td>Trompe L'Oeil</td>\n",
       "      <td>1</td>\n",
       "      <td>7</td>\n",
       "      <td>regular</td>\n",
       "      <td>2016-11-13</td>\n",
       "      <td>21:00</td>\n",
       "      <td>2016-11-14T02:00:00+00:00</td>\n",
       "      <td>60</td>\n",
       "      <td>{'average': 8.6}</td>\n",
       "      <td>{'medium': 'https://static.tvmaze.com/uploads/...</td>\n",
       "      <td>&lt;p&gt;While William and Dolores travel to the unc...</td>\n",
       "      <td>{'self': {'href': 'https://api.tvmaze.com/epis...</td>\n",
       "      <td>8.6</td>\n",
       "      <td>average</td>\n",
       "    </tr>\n",
       "    <tr>\n",
       "      <th>7</th>\n",
       "      <td>943065</td>\n",
       "      <td>https://www.tvmaze.com/episodes/943065/westwor...</td>\n",
       "      <td>Trace Decay</td>\n",
       "      <td>1</td>\n",
       "      <td>8</td>\n",
       "      <td>regular</td>\n",
       "      <td>2016-11-20</td>\n",
       "      <td>21:00</td>\n",
       "      <td>2016-11-21T02:00:00+00:00</td>\n",
       "      <td>60</td>\n",
       "      <td>{'average': 7.9}</td>\n",
       "      <td>{'medium': 'https://static.tvmaze.com/uploads/...</td>\n",
       "      <td>&lt;p&gt;Bernard tries to cope with what he did unde...</td>\n",
       "      <td>{'self': {'href': 'https://api.tvmaze.com/epis...</td>\n",
       "      <td>7.9</td>\n",
       "      <td>average</td>\n",
       "    </tr>\n",
       "    <tr>\n",
       "      <th>8</th>\n",
       "      <td>943066</td>\n",
       "      <td>https://www.tvmaze.com/episodes/943066/westwor...</td>\n",
       "      <td>The Well-Tempered Clavier</td>\n",
       "      <td>1</td>\n",
       "      <td>9</td>\n",
       "      <td>regular</td>\n",
       "      <td>2016-11-27</td>\n",
       "      <td>21:00</td>\n",
       "      <td>2016-11-28T02:00:00+00:00</td>\n",
       "      <td>60</td>\n",
       "      <td>{'average': 8.5}</td>\n",
       "      <td>{'medium': 'https://static.tvmaze.com/uploads/...</td>\n",
       "      <td>&lt;p&gt;Bernard forces Robert to take him back into...</td>\n",
       "      <td>{'self': {'href': 'https://api.tvmaze.com/epis...</td>\n",
       "      <td>8.5</td>\n",
       "      <td>average</td>\n",
       "    </tr>\n",
       "    <tr>\n",
       "      <th>9</th>\n",
       "      <td>943067</td>\n",
       "      <td>https://www.tvmaze.com/episodes/943067/westwor...</td>\n",
       "      <td>The Bicameral Mind</td>\n",
       "      <td>1</td>\n",
       "      <td>10</td>\n",
       "      <td>regular</td>\n",
       "      <td>2016-12-04</td>\n",
       "      <td>21:00</td>\n",
       "      <td>2016-12-05T02:00:00+00:00</td>\n",
       "      <td>90</td>\n",
       "      <td>{'average': 8.7}</td>\n",
       "      <td>{'medium': 'https://static.tvmaze.com/uploads/...</td>\n",
       "      <td>&lt;p&gt;Delores finds out the truth about William's...</td>\n",
       "      <td>{'self': {'href': 'https://api.tvmaze.com/epis...</td>\n",
       "      <td>8.7</td>\n",
       "      <td>average</td>\n",
       "    </tr>\n",
       "    <tr>\n",
       "      <th>10</th>\n",
       "      <td>1214222</td>\n",
       "      <td>https://www.tvmaze.com/episodes/1214222/westwo...</td>\n",
       "      <td>Journey Into Night</td>\n",
       "      <td>2</td>\n",
       "      <td>1</td>\n",
       "      <td>regular</td>\n",
       "      <td>2018-04-22</td>\n",
       "      <td>21:00</td>\n",
       "      <td>2018-04-23T01:00:00+00:00</td>\n",
       "      <td>74</td>\n",
       "      <td>{'average': 7.8}</td>\n",
       "      <td>{'medium': 'https://static.tvmaze.com/uploads/...</td>\n",
       "      <td>&lt;p&gt;In the aftermath of the host rebellion, the...</td>\n",
       "      <td>{'self': {'href': 'https://api.tvmaze.com/epis...</td>\n",
       "      <td>7.8</td>\n",
       "      <td>average</td>\n",
       "    </tr>\n",
       "    <tr>\n",
       "      <th>11</th>\n",
       "      <td>1440915</td>\n",
       "      <td>https://www.tvmaze.com/episodes/1440915/westwo...</td>\n",
       "      <td>Reunion</td>\n",
       "      <td>2</td>\n",
       "      <td>2</td>\n",
       "      <td>regular</td>\n",
       "      <td>2018-04-29</td>\n",
       "      <td>21:00</td>\n",
       "      <td>2018-04-30T01:00:00+00:00</td>\n",
       "      <td>60</td>\n",
       "      <td>{'average': 7.7}</td>\n",
       "      <td>{'medium': 'https://static.tvmaze.com/uploads/...</td>\n",
       "      <td>&lt;p&gt;Dolores looks for allies sympathetic to her...</td>\n",
       "      <td>{'self': {'href': 'https://api.tvmaze.com/epis...</td>\n",
       "      <td>7.7</td>\n",
       "      <td>average</td>\n",
       "    </tr>\n",
       "    <tr>\n",
       "      <th>12</th>\n",
       "      <td>1440916</td>\n",
       "      <td>https://www.tvmaze.com/episodes/1440916/westwo...</td>\n",
       "      <td>Virtù e Fortuna</td>\n",
       "      <td>2</td>\n",
       "      <td>3</td>\n",
       "      <td>regular</td>\n",
       "      <td>2018-05-06</td>\n",
       "      <td>21:00</td>\n",
       "      <td>2018-05-07T01:00:00+00:00</td>\n",
       "      <td>60</td>\n",
       "      <td>{'average': 7.7}</td>\n",
       "      <td>{'medium': 'https://static.tvmaze.com/uploads/...</td>\n",
       "      <td>&lt;p&gt;While Delores makes a deal with the Confede...</td>\n",
       "      <td>{'self': {'href': 'https://api.tvmaze.com/epis...</td>\n",
       "      <td>7.7</td>\n",
       "      <td>average</td>\n",
       "    </tr>\n",
       "    <tr>\n",
       "      <th>13</th>\n",
       "      <td>1440917</td>\n",
       "      <td>https://www.tvmaze.com/episodes/1440917/westwo...</td>\n",
       "      <td>The Riddle of the Sphinx</td>\n",
       "      <td>2</td>\n",
       "      <td>4</td>\n",
       "      <td>regular</td>\n",
       "      <td>2018-05-13</td>\n",
       "      <td>21:00</td>\n",
       "      <td>2018-05-14T01:00:00+00:00</td>\n",
       "      <td>71</td>\n",
       "      <td>{'average': 8}</td>\n",
       "      <td>{'medium': 'https://static.tvmaze.com/uploads/...</td>\n",
       "      <td>&lt;p&gt;William pays his recuperating father-in-law...</td>\n",
       "      <td>{'self': {'href': 'https://api.tvmaze.com/epis...</td>\n",
       "      <td>8.0</td>\n",
       "      <td>average</td>\n",
       "    </tr>\n",
       "    <tr>\n",
       "      <th>14</th>\n",
       "      <td>1446362</td>\n",
       "      <td>https://www.tvmaze.com/episodes/1446362/westwo...</td>\n",
       "      <td>Akane No Mai</td>\n",
       "      <td>2</td>\n",
       "      <td>5</td>\n",
       "      <td>regular</td>\n",
       "      <td>2018-05-20</td>\n",
       "      <td>21:00</td>\n",
       "      <td>2018-05-21T01:00:00+00:00</td>\n",
       "      <td>60</td>\n",
       "      <td>{'average': 7.6}</td>\n",
       "      <td>{'medium': 'https://static.tvmaze.com/uploads/...</td>\n",
       "      <td>&lt;p&gt;While Maeve and her people explore Shogun W...</td>\n",
       "      <td>{'self': {'href': 'https://api.tvmaze.com/epis...</td>\n",
       "      <td>7.6</td>\n",
       "      <td>average</td>\n",
       "    </tr>\n",
       "    <tr>\n",
       "      <th>15</th>\n",
       "      <td>1453278</td>\n",
       "      <td>https://www.tvmaze.com/episodes/1453278/westwo...</td>\n",
       "      <td>Phase Space</td>\n",
       "      <td>2</td>\n",
       "      <td>6</td>\n",
       "      <td>regular</td>\n",
       "      <td>2018-05-27</td>\n",
       "      <td>21:00</td>\n",
       "      <td>2018-05-28T01:00:00+00:00</td>\n",
       "      <td>60</td>\n",
       "      <td>{'average': 7.7}</td>\n",
       "      <td>{'medium': 'https://static.tvmaze.com/uploads/...</td>\n",
       "      <td>&lt;p&gt;Maeve finds her daughter, Delores finds the...</td>\n",
       "      <td>{'self': {'href': 'https://api.tvmaze.com/epis...</td>\n",
       "      <td>7.7</td>\n",
       "      <td>average</td>\n",
       "    </tr>\n",
       "    <tr>\n",
       "      <th>16</th>\n",
       "      <td>1459961</td>\n",
       "      <td>https://www.tvmaze.com/episodes/1459961/westwo...</td>\n",
       "      <td>Les Écorchés</td>\n",
       "      <td>2</td>\n",
       "      <td>7</td>\n",
       "      <td>regular</td>\n",
       "      <td>2018-06-03</td>\n",
       "      <td>21:00</td>\n",
       "      <td>2018-06-04T01:00:00+00:00</td>\n",
       "      <td>60</td>\n",
       "      <td>{'average': 7.9}</td>\n",
       "      <td>{'medium': 'https://static.tvmaze.com/uploads/...</td>\n",
       "      <td>&lt;p&gt;Charlotte and Bernard review Bernard's memo...</td>\n",
       "      <td>{'self': {'href': 'https://api.tvmaze.com/epis...</td>\n",
       "      <td>7.9</td>\n",
       "      <td>average</td>\n",
       "    </tr>\n",
       "    <tr>\n",
       "      <th>17</th>\n",
       "      <td>1459788</td>\n",
       "      <td>https://www.tvmaze.com/episodes/1459788/westwo...</td>\n",
       "      <td>Kiksuya</td>\n",
       "      <td>2</td>\n",
       "      <td>8</td>\n",
       "      <td>regular</td>\n",
       "      <td>2018-06-10</td>\n",
       "      <td>21:00</td>\n",
       "      <td>2018-06-11T01:00:00+00:00</td>\n",
       "      <td>60</td>\n",
       "      <td>{'average': 8.7}</td>\n",
       "      <td>{'medium': 'https://static.tvmaze.com/uploads/...</td>\n",
       "      <td>&lt;p&gt;Another of Westworld's Host revolutionaries...</td>\n",
       "      <td>{'self': {'href': 'https://api.tvmaze.com/epis...</td>\n",
       "      <td>8.7</td>\n",
       "      <td>average</td>\n",
       "    </tr>\n",
       "    <tr>\n",
       "      <th>18</th>\n",
       "      <td>1459789</td>\n",
       "      <td>https://www.tvmaze.com/episodes/1459789/westwo...</td>\n",
       "      <td>Vanishing Point</td>\n",
       "      <td>2</td>\n",
       "      <td>9</td>\n",
       "      <td>regular</td>\n",
       "      <td>2018-06-17</td>\n",
       "      <td>21:00</td>\n",
       "      <td>2018-06-18T01:00:00+00:00</td>\n",
       "      <td>60</td>\n",
       "      <td>{'average': 8.4}</td>\n",
       "      <td>{'medium': 'https://static.tvmaze.com/uploads/...</td>\n",
       "      <td>&lt;p&gt;The Man learns that his grip on reality isn...</td>\n",
       "      <td>{'self': {'href': 'https://api.tvmaze.com/epis...</td>\n",
       "      <td>8.4</td>\n",
       "      <td>average</td>\n",
       "    </tr>\n",
       "    <tr>\n",
       "      <th>19</th>\n",
       "      <td>1459790</td>\n",
       "      <td>https://www.tvmaze.com/episodes/1459790/westwo...</td>\n",
       "      <td>The Passenger</td>\n",
       "      <td>2</td>\n",
       "      <td>10</td>\n",
       "      <td>regular</td>\n",
       "      <td>2018-06-24</td>\n",
       "      <td>21:00</td>\n",
       "      <td>2018-06-25T01:00:00+00:00</td>\n",
       "      <td>90</td>\n",
       "      <td>{'average': 8.5}</td>\n",
       "      <td>{'medium': 'https://static.tvmaze.com/uploads/...</td>\n",
       "      <td>&lt;p&gt;The Man faces a personal reckoning, while A...</td>\n",
       "      <td>{'self': {'href': 'https://api.tvmaze.com/epis...</td>\n",
       "      <td>8.5</td>\n",
       "      <td>average</td>\n",
       "    </tr>\n",
       "  </tbody>\n",
       "</table>\n",
       "</div>"
      ],
      "text/plain": [
       "         id                                                url  \\\n",
       "0    869671  https://www.tvmaze.com/episodes/869671/westwor...   \n",
       "1    911201  https://www.tvmaze.com/episodes/911201/westwor...   \n",
       "2    911204  https://www.tvmaze.com/episodes/911204/westwor...   \n",
       "3    911205  https://www.tvmaze.com/episodes/911205/westwor...   \n",
       "4    927174  https://www.tvmaze.com/episodes/927174/westwor...   \n",
       "5    932057  https://www.tvmaze.com/episodes/932057/westwor...   \n",
       "6    938404  https://www.tvmaze.com/episodes/938404/westwor...   \n",
       "7    943065  https://www.tvmaze.com/episodes/943065/westwor...   \n",
       "8    943066  https://www.tvmaze.com/episodes/943066/westwor...   \n",
       "9    943067  https://www.tvmaze.com/episodes/943067/westwor...   \n",
       "10  1214222  https://www.tvmaze.com/episodes/1214222/westwo...   \n",
       "11  1440915  https://www.tvmaze.com/episodes/1440915/westwo...   \n",
       "12  1440916  https://www.tvmaze.com/episodes/1440916/westwo...   \n",
       "13  1440917  https://www.tvmaze.com/episodes/1440917/westwo...   \n",
       "14  1446362  https://www.tvmaze.com/episodes/1446362/westwo...   \n",
       "15  1453278  https://www.tvmaze.com/episodes/1453278/westwo...   \n",
       "16  1459961  https://www.tvmaze.com/episodes/1459961/westwo...   \n",
       "17  1459788  https://www.tvmaze.com/episodes/1459788/westwo...   \n",
       "18  1459789  https://www.tvmaze.com/episodes/1459789/westwo...   \n",
       "19  1459790  https://www.tvmaze.com/episodes/1459790/westwo...   \n",
       "\n",
       "                         name  season  number     type    airdate airtime  \\\n",
       "0                The Original       1       1  regular 2016-10-02   21:00   \n",
       "1                    Chestnut       1       2  regular 2016-10-09   21:00   \n",
       "2                   The Stray       1       3  regular 2016-10-16   21:00   \n",
       "3           Dissonance Theory       1       4  regular 2016-10-23   21:00   \n",
       "4                 Contrapasso       1       5  regular 2016-10-30   21:00   \n",
       "5               The Adversary       1       6  regular 2016-11-06   21:00   \n",
       "6               Trompe L'Oeil       1       7  regular 2016-11-13   21:00   \n",
       "7                 Trace Decay       1       8  regular 2016-11-20   21:00   \n",
       "8   The Well-Tempered Clavier       1       9  regular 2016-11-27   21:00   \n",
       "9          The Bicameral Mind       1      10  regular 2016-12-04   21:00   \n",
       "10         Journey Into Night       2       1  regular 2018-04-22   21:00   \n",
       "11                    Reunion       2       2  regular 2018-04-29   21:00   \n",
       "12            Virtù e Fortuna       2       3  regular 2018-05-06   21:00   \n",
       "13   The Riddle of the Sphinx       2       4  regular 2018-05-13   21:00   \n",
       "14               Akane No Mai       2       5  regular 2018-05-20   21:00   \n",
       "15                Phase Space       2       6  regular 2018-05-27   21:00   \n",
       "16               Les Écorchés       2       7  regular 2018-06-03   21:00   \n",
       "17                    Kiksuya       2       8  regular 2018-06-10   21:00   \n",
       "18            Vanishing Point       2       9  regular 2018-06-17   21:00   \n",
       "19              The Passenger       2      10  regular 2018-06-24   21:00   \n",
       "\n",
       "                     airstamp  runtime            rating  \\\n",
       "0   2016-10-03T01:00:00+00:00       68    {'average': 8}   \n",
       "1   2016-10-10T01:00:00+00:00       60  {'average': 7.7}   \n",
       "2   2016-10-17T01:00:00+00:00       60  {'average': 7.6}   \n",
       "3   2016-10-24T01:00:00+00:00       60  {'average': 7.9}   \n",
       "4   2016-10-31T01:00:00+00:00       60    {'average': 8}   \n",
       "5   2016-11-07T02:00:00+00:00       60    {'average': 8}   \n",
       "6   2016-11-14T02:00:00+00:00       60  {'average': 8.6}   \n",
       "7   2016-11-21T02:00:00+00:00       60  {'average': 7.9}   \n",
       "8   2016-11-28T02:00:00+00:00       60  {'average': 8.5}   \n",
       "9   2016-12-05T02:00:00+00:00       90  {'average': 8.7}   \n",
       "10  2018-04-23T01:00:00+00:00       74  {'average': 7.8}   \n",
       "11  2018-04-30T01:00:00+00:00       60  {'average': 7.7}   \n",
       "12  2018-05-07T01:00:00+00:00       60  {'average': 7.7}   \n",
       "13  2018-05-14T01:00:00+00:00       71    {'average': 8}   \n",
       "14  2018-05-21T01:00:00+00:00       60  {'average': 7.6}   \n",
       "15  2018-05-28T01:00:00+00:00       60  {'average': 7.7}   \n",
       "16  2018-06-04T01:00:00+00:00       60  {'average': 7.9}   \n",
       "17  2018-06-11T01:00:00+00:00       60  {'average': 8.7}   \n",
       "18  2018-06-18T01:00:00+00:00       60  {'average': 8.4}   \n",
       "19  2018-06-25T01:00:00+00:00       90  {'average': 8.5}   \n",
       "\n",
       "                                                image  \\\n",
       "0   {'medium': 'https://static.tvmaze.com/uploads/...   \n",
       "1   {'medium': 'https://static.tvmaze.com/uploads/...   \n",
       "2   {'medium': 'https://static.tvmaze.com/uploads/...   \n",
       "3   {'medium': 'https://static.tvmaze.com/uploads/...   \n",
       "4   {'medium': 'https://static.tvmaze.com/uploads/...   \n",
       "5   {'medium': 'https://static.tvmaze.com/uploads/...   \n",
       "6   {'medium': 'https://static.tvmaze.com/uploads/...   \n",
       "7   {'medium': 'https://static.tvmaze.com/uploads/...   \n",
       "8   {'medium': 'https://static.tvmaze.com/uploads/...   \n",
       "9   {'medium': 'https://static.tvmaze.com/uploads/...   \n",
       "10  {'medium': 'https://static.tvmaze.com/uploads/...   \n",
       "11  {'medium': 'https://static.tvmaze.com/uploads/...   \n",
       "12  {'medium': 'https://static.tvmaze.com/uploads/...   \n",
       "13  {'medium': 'https://static.tvmaze.com/uploads/...   \n",
       "14  {'medium': 'https://static.tvmaze.com/uploads/...   \n",
       "15  {'medium': 'https://static.tvmaze.com/uploads/...   \n",
       "16  {'medium': 'https://static.tvmaze.com/uploads/...   \n",
       "17  {'medium': 'https://static.tvmaze.com/uploads/...   \n",
       "18  {'medium': 'https://static.tvmaze.com/uploads/...   \n",
       "19  {'medium': 'https://static.tvmaze.com/uploads/...   \n",
       "\n",
       "                                              summary  \\\n",
       "0   <p>A woman named Dolores is a free spirit in t...   \n",
       "1   <p>Bernard suspects that someone is sabotaging...   \n",
       "2   <p>Bernard continues to investigate Dolores' s...   \n",
       "3   <p>While Dolores joins William and Logan on th...   \n",
       "4   <p>Dolores takes the first step on her path of...   \n",
       "5   <p>While Maeve convinces Felix to show her \"up...   \n",
       "6   <p>While William and Dolores travel to the unc...   \n",
       "7   <p>Bernard tries to cope with what he did unde...   \n",
       "8   <p>Bernard forces Robert to take him back into...   \n",
       "9   <p>Delores finds out the truth about William's...   \n",
       "10  <p>In the aftermath of the host rebellion, the...   \n",
       "11  <p>Dolores looks for allies sympathetic to her...   \n",
       "12  <p>While Delores makes a deal with the Confede...   \n",
       "13  <p>William pays his recuperating father-in-law...   \n",
       "14  <p>While Maeve and her people explore Shogun W...   \n",
       "15  <p>Maeve finds her daughter, Delores finds the...   \n",
       "16  <p>Charlotte and Bernard review Bernard's memo...   \n",
       "17  <p>Another of Westworld's Host revolutionaries...   \n",
       "18  <p>The Man learns that his grip on reality isn...   \n",
       "19  <p>The Man faces a personal reckoning, while A...   \n",
       "\n",
       "                                               _links  rating_value  \\\n",
       "0   {'self': {'href': 'https://api.tvmaze.com/epis...           8.0   \n",
       "1   {'self': {'href': 'https://api.tvmaze.com/epis...           7.7   \n",
       "2   {'self': {'href': 'https://api.tvmaze.com/epis...           7.6   \n",
       "3   {'self': {'href': 'https://api.tvmaze.com/epis...           7.9   \n",
       "4   {'self': {'href': 'https://api.tvmaze.com/epis...           8.0   \n",
       "5   {'self': {'href': 'https://api.tvmaze.com/epis...           8.0   \n",
       "6   {'self': {'href': 'https://api.tvmaze.com/epis...           8.6   \n",
       "7   {'self': {'href': 'https://api.tvmaze.com/epis...           7.9   \n",
       "8   {'self': {'href': 'https://api.tvmaze.com/epis...           8.5   \n",
       "9   {'self': {'href': 'https://api.tvmaze.com/epis...           8.7   \n",
       "10  {'self': {'href': 'https://api.tvmaze.com/epis...           7.8   \n",
       "11  {'self': {'href': 'https://api.tvmaze.com/epis...           7.7   \n",
       "12  {'self': {'href': 'https://api.tvmaze.com/epis...           7.7   \n",
       "13  {'self': {'href': 'https://api.tvmaze.com/epis...           8.0   \n",
       "14  {'self': {'href': 'https://api.tvmaze.com/epis...           7.6   \n",
       "15  {'self': {'href': 'https://api.tvmaze.com/epis...           7.7   \n",
       "16  {'self': {'href': 'https://api.tvmaze.com/epis...           7.9   \n",
       "17  {'self': {'href': 'https://api.tvmaze.com/epis...           8.7   \n",
       "18  {'self': {'href': 'https://api.tvmaze.com/epis...           8.4   \n",
       "19  {'self': {'href': 'https://api.tvmaze.com/epis...           8.5   \n",
       "\n",
       "   rating_category  \n",
       "0          average  \n",
       "1          average  \n",
       "2          average  \n",
       "3          average  \n",
       "4          average  \n",
       "5          average  \n",
       "6          average  \n",
       "7          average  \n",
       "8          average  \n",
       "9          average  \n",
       "10         average  \n",
       "11         average  \n",
       "12         average  \n",
       "13         average  \n",
       "14         average  \n",
       "15         average  \n",
       "16         average  \n",
       "17         average  \n",
       "18         average  \n",
       "19         average  "
      ]
     },
     "execution_count": 16,
     "metadata": {},
     "output_type": "execute_result"
    }
   ],
   "source": [
    "df[(df[\"airdate\"] < \"2019-05-01\")]"
   ]
  },
  {
   "attachments": {},
   "cell_type": "markdown",
   "metadata": {},
   "source": [
    "## Getting the episode names:"
   ]
  },
  {
   "cell_type": "code",
   "execution_count": 17,
   "metadata": {},
   "outputs": [
    {
     "data": {
      "text/plain": [
       "array(['The Original', 'Chestnut', 'The Stray', 'Dissonance Theory',\n",
       "       'Contrapasso', 'The Adversary', \"Trompe L'Oeil\", 'Trace Decay',\n",
       "       'The Well-Tempered Clavier', 'The Bicameral Mind',\n",
       "       'Journey Into Night', 'Reunion', 'Virtù e Fortuna',\n",
       "       'The Riddle of the Sphinx', 'Akane No Mai', 'Phase Space',\n",
       "       'Les Écorchés', 'Kiksuya', 'Vanishing Point', 'The Passenger'],\n",
       "      dtype=object)"
      ]
     },
     "execution_count": 17,
     "metadata": {},
     "output_type": "execute_result"
    }
   ],
   "source": [
    "df[(df[\"airdate\"] < \"2019-05-01\")][\"name\"].unique()"
   ]
  },
  {
   "attachments": {},
   "cell_type": "markdown",
   "metadata": {},
   "source": [
    "# 4. Episode names from each season with the highest and lowest rating:"
   ]
  },
  {
   "cell_type": "code",
   "execution_count": 18,
   "metadata": {},
   "outputs": [],
   "source": [
    "least_rating_season_1 = min(list(season_group.get_group(1)[\"rating_value\"]))\n",
    "highest_rating_season_1 = max(list(season_group.get_group(1)[\"rating_value\"]))\n",
    "least_rating_season_2 = min(list(season_group.get_group(2)[\"rating_value\"]))\n",
    "highest_rating_season_2 = max(list(season_group.get_group(2)[\"rating_value\"]))\n",
    "least_rating_season_3 = min(list(season_group.get_group(3)[\"rating_value\"]))\n",
    "highest_rating_season_3 = max(list(season_group.get_group(3)[\"rating_value\"]))\n",
    "least_rating_season_4 = min(list(season_group.get_group(4)[\"rating_value\"]))\n",
    "highest_rating_season_4 = max(list(season_group.get_group(4)[\"rating_value\"]))"
   ]
  },
  {
   "cell_type": "code",
   "execution_count": 19,
   "metadata": {},
   "outputs": [
    {
     "data": {
      "text/plain": [
       "2    The Stray\n",
       "Name: name, dtype: object"
      ]
     },
     "execution_count": 19,
     "metadata": {},
     "output_type": "execute_result"
    }
   ],
   "source": [
    "# Name of the episode with lowest rating in season 1\n",
    "season_group.get_group(1).loc[(season_group.get_group(1).rating_value == least_rating_season_1)][\"name\"]"
   ]
  },
  {
   "cell_type": "code",
   "execution_count": 20,
   "metadata": {},
   "outputs": [
    {
     "data": {
      "text/plain": [
       "9    The Bicameral Mind\n",
       "Name: name, dtype: object"
      ]
     },
     "execution_count": 20,
     "metadata": {},
     "output_type": "execute_result"
    }
   ],
   "source": [
    "# Name of the episode with highest rating in season 1\n",
    "season_group.get_group(1).loc[(season_group.get_group(1).rating_value == highest_rating_season_1)][\"name\"]"
   ]
  },
  {
   "cell_type": "code",
   "execution_count": 21,
   "metadata": {},
   "outputs": [
    {
     "data": {
      "text/plain": [
       "14    Akane No Mai\n",
       "Name: name, dtype: object"
      ]
     },
     "execution_count": 21,
     "metadata": {},
     "output_type": "execute_result"
    }
   ],
   "source": [
    "# Name of the episode with lowest rating in season 2\n",
    "season_group.get_group(2).loc[(season_group.get_group(2).rating_value == least_rating_season_2)][\"name\"]"
   ]
  },
  {
   "cell_type": "code",
   "execution_count": 22,
   "metadata": {},
   "outputs": [
    {
     "data": {
      "text/plain": [
       "17    Kiksuya\n",
       "Name: name, dtype: object"
      ]
     },
     "execution_count": 22,
     "metadata": {},
     "output_type": "execute_result"
    }
   ],
   "source": [
    "# Name of the episode with highest rating in season 2\n",
    "season_group.get_group(2).loc[(season_group.get_group(2).rating_value == highest_rating_season_2)][\"name\"]"
   ]
  },
  {
   "cell_type": "code",
   "execution_count": 23,
   "metadata": {},
   "outputs": [
    {
     "data": {
      "text/plain": [
       "25    Decoherence\n",
       "26    Passed Pawn\n",
       "Name: name, dtype: object"
      ]
     },
     "execution_count": 23,
     "metadata": {},
     "output_type": "execute_result"
    }
   ],
   "source": [
    "# Name of the episode with lowest rating in season 3\n",
    "season_group.get_group(3).loc[(season_group.get_group(3).rating_value == least_rating_season_3)][\"name\"]"
   ]
  },
  {
   "cell_type": "code",
   "execution_count": 24,
   "metadata": {},
   "outputs": [
    {
     "data": {
      "text/plain": [
       "20            Parce Domine\n",
       "23    The Mother of Exiles\n",
       "Name: name, dtype: object"
      ]
     },
     "execution_count": 24,
     "metadata": {},
     "output_type": "execute_result"
    }
   ],
   "source": [
    "# Name of the episode with highest rating in season 3\n",
    "season_group.get_group(3).loc[(season_group.get_group(3).rating_value == highest_rating_season_3)][\"name\"]"
   ]
  },
  {
   "cell_type": "code",
   "execution_count": 25,
   "metadata": {},
   "outputs": [
    {
     "data": {
      "text/plain": [
       "28    The Auguries\n",
       "Name: name, dtype: object"
      ]
     },
     "execution_count": 25,
     "metadata": {},
     "output_type": "execute_result"
    }
   ],
   "source": [
    "# Name of the episode with lowest rating in season 4\n",
    "season_group.get_group(4).loc[(season_group.get_group(4).rating_value == least_rating_season_4)][\"name\"]"
   ]
  },
  {
   "cell_type": "code",
   "execution_count": 26,
   "metadata": {},
   "outputs": [
    {
     "data": {
      "text/plain": [
       "32    Zhuangzi\n",
       "Name: name, dtype: object"
      ]
     },
     "execution_count": 26,
     "metadata": {},
     "output_type": "execute_result"
    }
   ],
   "source": [
    "# Name of the episode with highest rating in season 4\n",
    "season_group.get_group(4).loc[(season_group.get_group(4).rating_value == highest_rating_season_4)][\"name\"]"
   ]
  },
  {
   "attachments": {},
   "cell_type": "markdown",
   "metadata": {},
   "source": [
    "# 5. Getting `summary` for the most popular (ratings) episode in every season:"
   ]
  },
  {
   "cell_type": "code",
   "execution_count": 27,
   "metadata": {},
   "outputs": [
    {
     "data": {
      "text/plain": [
       "\"<p>Delores finds out the truth about William's fate. Meanwhile, Maeve organizes an escape plan, only to discover that someone else is pulling the strings. And Robert plays the final piece in his grand narrative.</p>\""
      ]
     },
     "execution_count": 27,
     "metadata": {},
     "output_type": "execute_result"
    }
   ],
   "source": [
    "# `summary` of the episode with highest rating in season 1\n",
    "season_group.get_group(1).loc[(season_group.get_group(1).rating_value == highest_rating_season_1)][\"summary\"].values[0]"
   ]
  },
  {
   "cell_type": "code",
   "execution_count": 28,
   "metadata": {},
   "outputs": [
    {
     "data": {
      "text/plain": [
       "\"<p>Another of Westworld's Host revolutionaries is revealed. Meanwhile, Emily finds the Man and convinces the Ghost Nation to hand him over to her to ensure his suffering.</p>\""
      ]
     },
     "execution_count": 28,
     "metadata": {},
     "output_type": "execute_result"
    }
   ],
   "source": [
    "# `summary` of the episode with highest rating in season 2\n",
    "season_group.get_group(2).loc[(season_group.get_group(2).rating_value == highest_rating_season_2)][\"summary\"].values[0]"
   ]
  },
  {
   "cell_type": "code",
   "execution_count": 29,
   "metadata": {},
   "outputs": [
    {
     "data": {
      "text/plain": [
       "array([\"<p>If you're stuck in a loop, try walking in a straight line.</p>\",\n",
       "       \"<p>The truth doesn't always set you free.</p>\"], dtype=object)"
      ]
     },
     "execution_count": 29,
     "metadata": {},
     "output_type": "execute_result"
    }
   ],
   "source": [
    "# `summary` of the episode with highest rating in season 3\n",
    "season_group.get_group(3).loc[(season_group.get_group(3).rating_value == highest_rating_season_3)][\"summary\"].values#[0]"
   ]
  },
  {
   "cell_type": "code",
   "execution_count": 30,
   "metadata": {},
   "outputs": [
    {
     "data": {
      "text/plain": [
       "'<p>God is bored.</p>'"
      ]
     },
     "execution_count": 30,
     "metadata": {},
     "output_type": "execute_result"
    }
   ],
   "source": [
    "# `summary` of the episode with highest rating in season 4\n",
    "season_group.get_group(4).loc[(season_group.get_group(4).rating_value == highest_rating_season_4)][\"summary\"].values[0]"
   ]
  }
 ],
 "metadata": {
  "kernelspec": {
   "display_name": "Python 3",
   "language": "python",
   "name": "python3"
  },
  "language_info": {
   "codemirror_mode": {
    "name": "ipython",
    "version": 3
   },
   "file_extension": ".py",
   "mimetype": "text/x-python",
   "name": "python",
   "nbconvert_exporter": "python",
   "pygments_lexer": "ipython3",
   "version": "3.10.11"
  },
  "orig_nbformat": 4
 },
 "nbformat": 4,
 "nbformat_minor": 2
}
