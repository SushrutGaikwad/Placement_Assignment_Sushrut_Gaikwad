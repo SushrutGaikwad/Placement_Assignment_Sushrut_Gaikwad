{
 "cells": [
  {
   "attachments": {},
   "cell_type": "markdown",
   "metadata": {},
   "source": [
    "**Question 2: Consider a string to be *valid* if all characters of the string appear the same number of times. It is also *valid* if we can remove just one character at the index in the string, and the remaining characters will occur the same number of times. Given a string, determine if it is *valid*. If so, return `YES`, otherwise return `NO`.**\n",
    "\n",
    "**Note:** You have to write at least 2 additional test cases in which your program will run successfully and provide an explanation for the same.\n",
    "\n",
    "Example input 1: `s = \"abc\"`. This is a valid string because frequencies are `{\"a\": 1, \"b\": 1, \"c\": 1}`.\n",
    "\n",
    "Example output 1: `YES`.\n",
    "\n",
    "Example input 2: `s = \"abccc\"`. This string is not valid as we can remove only 1 occurrence of `\"c\"`. That leaves character frequencies of `{\"a\": 1, \"b\": 1 , \"c\": 2}`.\n",
    "\n",
    "Example output 2: `NO`."
   ]
  },
  {
   "cell_type": "code",
   "execution_count": 1,
   "metadata": {},
   "outputs": [],
   "source": [
    "# Helper functions\n",
    "\n",
    "def frequency_dictionary(string: str) -> dict:\n",
    "    \"\"\"Returns the frequency of all the characters of a string as a dictionary.\n",
    "\n",
    "    Args:\n",
    "        string (str): The string.\n",
    "\n",
    "    Returns:\n",
    "        dict: The frequency dictionary.\n",
    "    \"\"\"\n",
    "    # Initializing an empty dictionary\n",
    "    count = dict()\n",
    "    \n",
    "    # Updating the dictionary with keys as the characters of the string \\\n",
    "        # and values as 0 for now\n",
    "    for character in string:\n",
    "        count[character] = 0\n",
    "    \n",
    "    # Initializing an empty list of characters\n",
    "    characters = []\n",
    "    \n",
    "    # Appending characters of the string to the list\n",
    "    for character in string:\n",
    "        characters.append(character)\n",
    "    \n",
    "    # Updating the dictionary with values as the frequencies of \\\n",
    "        # the corresponding characters\n",
    "    for character in characters:\n",
    "        if character in count.keys():\n",
    "            count[character] += 1\n",
    "    \n",
    "    return count\n",
    "\n",
    "\n",
    "def frequencies(frequency_dictionary: dict) -> list:\n",
    "    \"\"\"Returns a list of frequency values from a frequency dictionary.\n",
    "\n",
    "    Args:\n",
    "        frequency_dictionary (dict): The frequency dictionary.\n",
    "\n",
    "    Returns:\n",
    "        list: The list of frequency values.\n",
    "    \"\"\"\n",
    "    # Getting the values of the dictionary as a list\n",
    "    lst = list(frequency_dictionary.values())\n",
    "    \n",
    "    return lst\n",
    "\n",
    "\n",
    "def are_all_frequencies_same(frequencies: list) -> bool:\n",
    "    \"\"\"Returns whether all the frequencies are the same or not.\n",
    "\n",
    "    Args:\n",
    "        frequencies (list): The list of frequencies.\n",
    "\n",
    "    Returns:\n",
    "        bool: Whether the frequencies are the same or not (True or False).\n",
    "    \"\"\"\n",
    "    # Initializing a boolean variable as `True`\n",
    "    same = True\n",
    "    \n",
    "    # Picking a reference value of the frequency to compare \\\n",
    "        # with other frequencies\n",
    "    reference_frequency = frequencies[0]\n",
    "    \n",
    "    # Comparing each frequency with the reference frequency\n",
    "    for frequency in frequencies:\n",
    "        \n",
    "        # Even if one frequency is not the same as reference frequency, \\\n",
    "            # we break the loop and change the boolean variable to `False`\n",
    "        if frequency != reference_frequency:\n",
    "            same = False\n",
    "            break\n",
    "        \n",
    "    return same\n",
    "\n",
    "\n",
    "def is_there_just_one_freq_one_higher_than_other_identical_frequencies(frequencies: list) -> bool:\n",
    "    \"\"\"Returns whether there is just one value of frequency that is one value higher \\\n",
    "        than all the other values of frequencies which have the same value.\n",
    "\n",
    "    Args:\n",
    "        frequencies (list): The list of frequencies.\n",
    "\n",
    "    Returns:\n",
    "        bool: The result (True or False).\n",
    "    \"\"\"\n",
    "    # Initializing a boolean variable to `False`\n",
    "    value = False\n",
    "    \n",
    "    # Getting the highest frequency\n",
    "    max_freq = max(frequencies)\n",
    "    \n",
    "    # Removing the highest frequency\n",
    "    frequencies.remove(max_freq)\n",
    "    \n",
    "    # Checking if the remaining frequencies have the same value. \\\n",
    "        # If they do, we check if the old maximum frequency was one higher\\\n",
    "            # than the newer max frequency. If it is, we change the boolean variable\\\n",
    "                # `value` to `True`, otherwise, we retain it as `False`\n",
    "    if are_all_frequencies_same(frequencies):\n",
    "        if max_freq == max(frequencies) + 1:\n",
    "            value = True\n",
    "        else:\n",
    "            value = False\n",
    "    return value"
   ]
  },
  {
   "cell_type": "code",
   "execution_count": 2,
   "metadata": {},
   "outputs": [],
   "source": [
    "# Main function\n",
    "\n",
    "def valid_string(string: str) -> str:\n",
    "    \"\"\"Returns whether the given string is valid or not.\n",
    "\n",
    "    Args:\n",
    "        string (str): The string.\n",
    "\n",
    "    Returns:\n",
    "        str: \"YES\" if the string is valid, otherwise \"NO\".\n",
    "    \"\"\"\n",
    "    # Initializing a variable `valid` to `\"NO\"`\n",
    "    valid = \"NO\"\n",
    "    \n",
    "    # Getting the frequency dictionary of the characters in the string\n",
    "    freq_dictionary = frequency_dictionary(string)\n",
    "    \n",
    "    # Getting the list of frequencies\n",
    "    freqs = frequencies(freq_dictionary)\n",
    "    \n",
    "    # Checking if all frequencies are the same. If they are, we change `valid` to `\"YES\"`\n",
    "    if are_all_frequencies_same(freqs):\n",
    "        valid = \"YES\"\n",
    "    \n",
    "    # If all the frequencies are not the same, then we check if there is just \\\n",
    "        # one frequency value that is just one value higher than all the other \\\n",
    "            # frequency values that are the same. If this is the case, \\\n",
    "                # we change `valid` to `\"YES\"`\n",
    "    elif is_there_just_one_freq_one_higher_than_other_identical_frequencies(freqs):\n",
    "        valid = \"YES\"\n",
    "    \n",
    "    return valid"
   ]
  },
  {
   "cell_type": "code",
   "execution_count": 3,
   "metadata": {},
   "outputs": [
    {
     "data": {
      "text/plain": [
       "'NO'"
      ]
     },
     "execution_count": 3,
     "metadata": {},
     "output_type": "execute_result"
    }
   ],
   "source": [
    "valid_string(\"abcdeeffg\")"
   ]
  },
  {
   "cell_type": "code",
   "execution_count": 4,
   "metadata": {},
   "outputs": [
    {
     "data": {
      "text/plain": [
       "'NO'"
      ]
     },
     "execution_count": 4,
     "metadata": {},
     "output_type": "execute_result"
    }
   ],
   "source": [
    "valid_string(\"abbccddeee\")"
   ]
  },
  {
   "cell_type": "code",
   "execution_count": 5,
   "metadata": {},
   "outputs": [
    {
     "data": {
      "text/plain": [
       "'YES'"
      ]
     },
     "execution_count": 5,
     "metadata": {},
     "output_type": "execute_result"
    }
   ],
   "source": [
    "valid_string(\"aabbccdd\")"
   ]
  },
  {
   "cell_type": "code",
   "execution_count": 6,
   "metadata": {},
   "outputs": [
    {
     "data": {
      "text/plain": [
       "'YES'"
      ]
     },
     "execution_count": 6,
     "metadata": {},
     "output_type": "execute_result"
    }
   ],
   "source": [
    "valid_string(\"abc\")"
   ]
  },
  {
   "cell_type": "code",
   "execution_count": 7,
   "metadata": {},
   "outputs": [
    {
     "data": {
      "text/plain": [
       "'YES'"
      ]
     },
     "execution_count": 7,
     "metadata": {},
     "output_type": "execute_result"
    }
   ],
   "source": [
    "valid_string(\"abcc\")"
   ]
  },
  {
   "cell_type": "code",
   "execution_count": 8,
   "metadata": {},
   "outputs": [
    {
     "data": {
      "text/plain": [
       "'NO'"
      ]
     },
     "execution_count": 8,
     "metadata": {},
     "output_type": "execute_result"
    }
   ],
   "source": [
    "valid_string(\"abccc\")"
   ]
  }
 ],
 "metadata": {
  "kernelspec": {
   "display_name": "Python 3",
   "language": "python",
   "name": "python3"
  },
  "language_info": {
   "codemirror_mode": {
    "name": "ipython",
    "version": 3
   },
   "file_extension": ".py",
   "mimetype": "text/x-python",
   "name": "python",
   "nbconvert_exporter": "python",
   "pygments_lexer": "ipython3",
   "version": "3.10.11"
  },
  "orig_nbformat": 4
 },
 "nbformat": 4,
 "nbformat_minor": 2
}
