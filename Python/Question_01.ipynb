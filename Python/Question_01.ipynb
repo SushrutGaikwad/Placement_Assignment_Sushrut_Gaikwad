{
 "cells": [
  {
   "attachments": {},
   "cell_type": "markdown",
   "metadata": {},
   "source": [
    "**Question 1: Write a program that takes a string as input, and counts the frequency of each word in the string, there might be repeated characters in the string. Your task is to find the highest frequency and returns the length of the highest-frequency word.**\n",
    "\n",
    "**Note:**  You have to write at least 2 additional test cases in which your program will run successfully and provide an explanation for the same.\n",
    "\n",
    "Example input: `string = \"write write write all the number from from from 1 to 100\"`\n",
    "\n",
    "Example output: `5`\n",
    "\n",
    "Explanation: From the given string we can note that the most frequent words are \"write\" and \"from\" and the maximum value of both the values is “write” and its corresponding length is 5."
   ]
  },
  {
   "cell_type": "code",
   "execution_count": 1,
   "metadata": {},
   "outputs": [],
   "source": [
    "def length_of_highest_frequency_word(string: str) -> int:\n",
    "    \"\"\"Returns the length of the highest frequency word in a string.\n",
    "\n",
    "    Args:\n",
    "        string (str): The string.\n",
    "\n",
    "    Returns:\n",
    "        int: The length of the highest frequency word.\n",
    "    \"\"\"\n",
    "    \n",
    "    # Getting the list of words in the string\n",
    "    words_list = string.split()\n",
    "    \n",
    "    # Initializing an empty dictionary\n",
    "    count = dict()\n",
    "    \n",
    "    # Updating the dictionary with keys as the words of the string\n",
    "    for word in words_list:\n",
    "        count[word] = 0\n",
    "\n",
    "    # Assigning the values of the dictionary as the count of the corresponding keys\n",
    "    for word in words_list:\n",
    "        if word in count.keys():\n",
    "            count[word] += 1\n",
    "    \n",
    "    # Initializing the highest frequency words list\n",
    "    highest_frequency_words = []\n",
    "    \n",
    "    # Appending the word with the highest frequency\n",
    "    highest_frequency_words.append(max(count, key=count.get))\n",
    "    \n",
    "    # Getting the frequency of the highest frequency word\n",
    "    max_freq = count[max(count, key=count.get)]\n",
    "    \n",
    "    # Removing the highest frequency word from the dictionary \\\n",
    "        # to check if other words have the same frequency\n",
    "    count.pop(max(count, key=count.get))\n",
    "    \n",
    "    # Appending other words to the list of highest frequency words if \\\n",
    "        # their frequency is the same as the frequency of the previous \\\n",
    "            # highest frequency word\n",
    "    while count[max(count, key=count.get)] == max_freq:\n",
    "        highest_frequency_words.append(max(count, key=count.get))\n",
    "        count.pop(max(count, key=count.get))\n",
    "    \n",
    "    # Initializing an empty set\n",
    "    max_length = set()\n",
    "    \n",
    "    # Adding the lengths of maximum frequency words to the set\n",
    "    for word in highest_frequency_words:\n",
    "        max_length.add(len(word))\n",
    "    \n",
    "    # Getting the maximum length\n",
    "    length = max(max_length)\n",
    "    \n",
    "    return length"
   ]
  },
  {
   "cell_type": "code",
   "execution_count": 2,
   "metadata": {},
   "outputs": [
    {
     "data": {
      "text/plain": [
       "5"
      ]
     },
     "execution_count": 2,
     "metadata": {},
     "output_type": "execute_result"
    }
   ],
   "source": [
    "string = \"write write write all the number from from from 1 to 100\"\n",
    "length_of_highest_frequency_word(string)"
   ]
  },
  {
   "cell_type": "code",
   "execution_count": 3,
   "metadata": {},
   "outputs": [
    {
     "data": {
      "text/plain": [
       "11"
      ]
     },
     "execution_count": 3,
     "metadata": {},
     "output_type": "execute_result"
    }
   ],
   "source": [
    "string = \"hello hello what are you going mississippi colorado mississippi hello mississippi\"\n",
    "length_of_highest_frequency_word(string)"
   ]
  }
 ],
 "metadata": {
  "kernelspec": {
   "display_name": "Python 3",
   "language": "python",
   "name": "python3"
  },
  "language_info": {
   "codemirror_mode": {
    "name": "ipython",
    "version": 3
   },
   "file_extension": ".py",
   "mimetype": "text/x-python",
   "name": "python",
   "nbconvert_exporter": "python",
   "pygments_lexer": "ipython3",
   "version": "3.10.11"
  },
  "orig_nbformat": 4
 },
 "nbformat": 4,
 "nbformat_minor": 2
}
